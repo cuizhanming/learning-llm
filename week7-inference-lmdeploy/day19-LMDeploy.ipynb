{
 "cells": [
  {
   "metadata": {},
   "cell_type": "markdown",
   "source": [
    "## 1. Install LMDeploy\n",
    "- Python\n",
    "```bash\n",
    "conda create -p /root/autodl-tmp/lmdeploy-env python=3.8 -y\n",
    "conda activate /root/autodl-tmp/lmdeploy-env\n",
    "\n",
    "pip install -U lmdeploy\n",
    "```\n",
    "\n",
    "- GitHub source\n",
    "```bash\n",
    "cd /root/autodl-tmp/\n",
    "git clone https://github.com/InternLM/lmdeploy.git\n",
    "cd lmdeploy\n",
    "pip install -e .\n",
    "```\n",
    "\n",
    "## 2. Starting LMDeploy with given model\n",
    "```bash\n",
    "# List all supported the llm\n",
    "lmdeploy list\n",
    "# Launch the chosen llm\n",
    "lmdeploy serve api_server internlm/internlm2_5-7b-chat --server-port 23333 --chat-template internlm2\n",
    "```\n",
    "\n",
    "## 3. Starting WebUI for LMDeploy\n",
    "- Using Gradio\n",
    "```bash\n",
    "lmdeploy serve gradio http://localhost:23333 --server-name localhost --server-port 6006\n",
    "```\n",
    "- Using Open WebUI\n",
    "```bash\n",
    "conda create -p /root/autodl-tmp/penv/open-webui python==3.11\n",
    "conda init\n",
    "conda activate open-webui\n",
    "\n",
    "pip install -U open-webui\n",
    "```\n",
    "\n",
    "## 4. Model Quantization with LMDeploy\n",
    "-- Quantization\n",
    "```bash\n",
    "export HF_MODEL=/root/autodl-tmp/work_dirs/internlm2_1_8b_qlora_alpaca_e3/merged\n",
    "export WORK_DIR=/root/autodl-tmp/work_dirs/internlm2_1_8b_qlora_alpaca_e3/merged-q4\n",
    "export HF_ENDPOINT=https://hf-mirror.com\n",
    "\n",
    "lmdeploy lite auto_awq $HF_MODEL \\\n",
    "  --calib-dataset 'ptb' \\\n",
    "  --calib-samples 128 \\\n",
    "  --calib-seqlen 2048 \\\n",
    "  --w-bits 4 \\\n",
    "  --w-group-size 128 \\\n",
    "  --batch-size 1 \\\n",
    "  --work-dir $WORK_DIR\n",
    "```"
   ],
   "id": "9507a75d6dfe3bd3"
  }
 ],
 "metadata": {
  "kernelspec": {
   "display_name": "Python 3",
   "language": "python",
   "name": "python3"
  },
  "language_info": {
   "codemirror_mode": {
    "name": "ipython",
    "version": 2
   },
   "file_extension": ".py",
   "mimetype": "text/x-python",
   "name": "python",
   "nbconvert_exporter": "python",
   "pygments_lexer": "ipython2",
   "version": "2.7.6"
  }
 },
 "nbformat": 4,
 "nbformat_minor": 5
}
