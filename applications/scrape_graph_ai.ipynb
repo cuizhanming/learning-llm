{
 "cells": [
  {
   "metadata": {},
   "cell_type": "markdown",
   "source": "## Packages Requirements",
   "id": "36a0e92713c032c0"
  },
  {
   "metadata": {},
   "cell_type": "code",
   "source": [
    "%%capture --no-stderr\n",
    "%pip install scrapegraphai langchain_scrapegraph dotenv pandas qdrant-client fastembed nest_asyncio\n",
    "#playwright install\n",
    "%pip install\n",
    "%pip install -U duckduckgo-search\n",
    "%pip install scrapegraphai'[other-language-models]'\n",
    "%pip install scrapegraphai'[more-semantic-options]'\n",
    "%pip install scrapegraphai'[more-browser-options]'"
   ],
   "id": "20f06f946ecec666",
   "outputs": [],
   "execution_count": null
  },
  {
   "metadata": {},
   "cell_type": "markdown",
   "source": "## 1. SmartScraperGraph with OpenAI",
   "id": "2110dbff6c89813e"
  },
  {
   "metadata": {},
   "cell_type": "code",
   "source": [
    "import os\n",
    "from dotenv import load_dotenv\n",
    "\n",
    "import json\n",
    "from scrapegraphai.graphs import SmartScraperGraph, DepthSearchGraph\n",
    "import nest_asyncio\n",
    "nest_asyncio.apply()\n",
    "\n",
    "load_dotenv()\n",
    "\n",
    "api_key = os.getenv(\"OPENAI_API_KEY\")\n",
    "\n",
    "# Define the configuration for the scraping pipeline\n",
    "graph_config = {\n",
    "    \"llm\": {\n",
    "        \"api_key\": api_key,\n",
    "        \"model\": \"openai/gpt-4o-mini\",\n",
    "    },\n",
    "    \"verbose\": True,\n",
    "    \"headless\": True,\n",
    "    \"depth\": 2,\n",
    "    \"only_inside_links\": False\n",
    "}\n",
    "\n",
    "# Create the SmartScraperGraph instance\n",
    "smart_scraper_graph = SmartScraperGraph(\n",
    "    prompt=\"Extract all the posts from the website\",\n",
    "    source=\"https://www.aivi.fyi/\",\n",
    "    config=graph_config\n",
    ")\n",
    "# Run the pipeline\n",
    "result = smart_scraper_graph.run()\n",
    "print(json.dumps(result, indent=4,ensure_ascii=False))\n",
    "\n",
    "\n",
    "# search_graph = DepthSearchGraph(\n",
    "#     prompt=\"List me all the projects with their description\",\n",
    "#     source=\"https://perinim.github.io\",\n",
    "#     config=graph_config\n",
    "# )\n",
    "# result = search_graph.run()\n",
    "# print(result)"
   ],
   "id": "8936d1c1940a3b2d",
   "outputs": [],
   "execution_count": null
  }
 ],
 "metadata": {
  "kernelspec": {
   "display_name": "Python 3",
   "language": "python",
   "name": "python3"
  },
  "language_info": {
   "codemirror_mode": {
    "name": "ipython",
    "version": 2
   },
   "file_extension": ".py",
   "mimetype": "text/x-python",
   "name": "python",
   "nbconvert_exporter": "python",
   "pygments_lexer": "ipython2",
   "version": "2.7.6"
  }
 },
 "nbformat": 4,
 "nbformat_minor": 5
}
