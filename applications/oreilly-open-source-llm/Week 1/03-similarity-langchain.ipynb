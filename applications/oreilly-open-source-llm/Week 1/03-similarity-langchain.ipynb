{
 "cells": [
  {
   "cell_type": "markdown",
   "id": "b64ece1d-7558-4fb6-a98b-ad06283bb898",
   "metadata": {},
   "source": [
    "# Load data"
   ]
  },
  {
   "cell_type": "code",
   "execution_count": null,
   "id": "1c08c809-10c6-42aa-9a01-0477ca426b2f",
   "metadata": {},
   "outputs": [],
   "source": [
    "import glob\n",
    "import os"
   ]
  },
  {
   "cell_type": "code",
   "execution_count": null,
   "id": "8f3a6bb6-90fd-4602-984b-ca6d42414384",
   "metadata": {},
   "outputs": [],
   "source": [
    "!pip install langchain"
   ]
  },
  {
   "cell_type": "code",
   "execution_count": null,
   "id": "55334519",
   "metadata": {},
   "outputs": [],
   "source": [
    "!pip install langchain-community"
   ]
  },
  {
   "cell_type": "code",
   "execution_count": null,
   "id": "96309f1b-3b3d-4039-b33d-04c89830c331",
   "metadata": {},
   "outputs": [],
   "source": [
    "from langchain.document_loaders import DirectoryLoader\n",
    "from langchain.document_loaders.text import TextLoader\n",
    "loader = DirectoryLoader(\"un/TXT/Session 77 - 2022/\", glob=\"**/*.txt\", loader_cls=TextLoader)\n",
    "data = loader.load()"
   ]
  },
  {
   "cell_type": "code",
   "execution_count": null,
   "id": "d6713035-9cf0-403c-a32c-9c5494db5247",
   "metadata": {},
   "outputs": [],
   "source": [
    "data[0:5]"
   ]
  },
  {
   "cell_type": "code",
   "execution_count": null,
   "id": "bcd414f2-4d1d-42d9-b7f3-498654415ca6",
   "metadata": {},
   "outputs": [],
   "source": [
    "from langchain.text_splitter import RecursiveCharacterTextSplitter\n",
    "\n",
    "text_splitter = RecursiveCharacterTextSplitter(chunk_size = 500, chunk_overlap = 50)\n",
    "all_splits = text_splitter.split_documents(data)"
   ]
  },
  {
   "cell_type": "code",
   "execution_count": null,
   "id": "eace20a8",
   "metadata": {},
   "outputs": [],
   "source": [
    "all_splits[0:10]"
   ]
  },
  {
   "cell_type": "code",
   "execution_count": null,
   "id": "c7f87f77-bdf8-4433-a2d8-65cc9047c108",
   "metadata": {},
   "outputs": [],
   "source": []
  },
  {
   "cell_type": "code",
   "execution_count": null,
   "id": "0112212d-2b8e-4b38-b2c2-333799200b21",
   "metadata": {},
   "outputs": [],
   "source": [
    "# this used to work\n",
    "# from langchain_huggingface import HuggingFaceEmbeddings\n",
    "# this is deprecated\n",
    "from langchain.embeddings import HuggingFaceEmbeddings, SentenceTransformerEmbeddings\n",
    "# this will work (now and) in the future\n",
    "# from langchain_huggingface import HuggingFaceEmbeddings\n",
    "from langchain.vectorstores.sklearn import SKLearnVectorStore\n",
    "\n",
    "retriever = SKLearnVectorStore.from_documents(all_splits, HuggingFaceEmbeddings(model_name=\"all-MiniLM-L6-v2\"))\\\n",
    "                              .as_retriever(search_kwargs={\"k\": 100})"
   ]
  },
  {
   "cell_type": "code",
   "execution_count": null,
   "id": "9a9c5300-2805-4ad8-86ce-cfe8a99e296e",
   "metadata": {},
   "outputs": [],
   "source": []
  },
  {
   "cell_type": "code",
   "execution_count": null,
   "id": "bfacb7b4-d6f0-4e42-8905-5e037b3ec899",
   "metadata": {},
   "outputs": [],
   "source": [
    "question = \"The climate crisis is worse for poorer countries\"\n",
    "docs = retriever.invoke(question)\n",
    "len(docs)"
   ]
  },
  {
   "cell_type": "code",
   "execution_count": null,
   "id": "0c02dfbb-a9f2-498b-9b80-55d97a04ddb2",
   "metadata": {
    "scrolled": true
   },
   "outputs": [],
   "source": [
    "docs[0:10]"
   ]
  },
  {
   "cell_type": "code",
   "execution_count": null,
   "id": "309799ee-f6be-4e90-a913-af0780f3812b",
   "metadata": {},
   "outputs": [],
   "source": [
    "import pandas as pd\n",
    "pd.set_option('display.max_colwidth', 0)\n",
    "df = pd.DataFrame([{\"source\": d.metadata[\"source\"], \"text\": d.page_content} for d in docs])\n",
    "df"
   ]
  },
  {
   "cell_type": "code",
   "execution_count": null,
   "id": "a4814aed-9ad8-44b2-86e1-c73b57a1c91a",
   "metadata": {},
   "outputs": [],
   "source": [
    "from langchain_community.cross_encoders import HuggingFaceCrossEncoder\n",
    "from langchain.retrievers.document_compressors import CrossEncoderReranker\n",
    "from langchain.retrievers import ContextualCompressionRetriever\n",
    "\n",
    "\n",
    "cross_encoder = HuggingFaceCrossEncoder(model_name=\"mixedbread-ai/mxbai-rerank-large-v1\")\n",
    "compressor = CrossEncoderReranker(model=cross_encoder, top_n=20)\n",
    "compression_retriever = ContextualCompressionRetriever(\n",
    "    base_compressor=compressor, base_retriever=retriever\n",
    ")"
   ]
  },
  {
   "cell_type": "code",
   "execution_count": null,
   "id": "814a46f5-8fa4-41f3-ba9a-a1e7fa7769f3",
   "metadata": {},
   "outputs": [],
   "source": [
    "compressed_docs = compression_retriever.invoke(question)"
   ]
  },
  {
   "cell_type": "code",
   "execution_count": null,
   "id": "5f62f9a8-9c10-40a9-86ac-babfd7c072bb",
   "metadata": {},
   "outputs": [],
   "source": [
    "pd.DataFrame([{\"source\": d.metadata[\"source\"], \"text\": d.page_content} for d in compressed_docs])"
   ]
  },
  {
   "cell_type": "code",
   "execution_count": null,
   "id": "0d0bf65d-4ba0-416d-8292-0333412465ea",
   "metadata": {},
   "outputs": [],
   "source": []
  }
 ],
 "metadata": {
  "kernelspec": {
   "display_name": "Python 3 (ipykernel)",
   "language": "python",
   "name": "python3"
  },
  "language_info": {
   "codemirror_mode": {
    "name": "ipython",
    "version": 3
   },
   "file_extension": ".py",
   "mimetype": "text/x-python",
   "name": "python",
   "nbconvert_exporter": "python",
   "pygments_lexer": "ipython3",
   "version": "3.12.3"
  }
 },
 "nbformat": 4,
 "nbformat_minor": 5
}
