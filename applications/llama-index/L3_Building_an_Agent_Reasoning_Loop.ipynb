{
 "cells": [
  {
   "cell_type": "markdown",
   "id": "64ec2f0f",
   "metadata": {},
   "source": [
    "# Lesson 3: Building an Agent Reasoning Loop"
   ]
  },
  {
   "cell_type": "markdown",
   "id": "b0d7f1cf",
   "metadata": {},
   "source": [
    "## Setup"
   ]
  },
  {
   "cell_type": "code",
   "id": "b07baa43-7a51-4c39-91cc-aa0d9619b69f",
   "metadata": {
    "height": 47,
    "tags": []
   },
   "source": [
    "from helper import get_openai_api_key\n",
    "OPENAI_API_KEY = get_openai_api_key()"
   ],
   "outputs": [],
   "execution_count": null
  },
  {
   "cell_type": "code",
   "id": "dcfa86a3-c7f2-41fa-b8b6-5617659ec36a",
   "metadata": {
    "height": 47,
    "tags": []
   },
   "source": [
    "import nest_asyncio\n",
    "nest_asyncio.apply()"
   ],
   "outputs": [],
   "execution_count": null
  },
  {
   "cell_type": "markdown",
   "id": "7d3af4bb",
   "metadata": {},
   "source": [
    "## Load the data"
   ]
  },
  {
   "cell_type": "markdown",
   "id": "3d8bfb34",
   "metadata": {
    "tags": []
   },
   "source": [
    "To download this paper, below is the needed code:\n",
    "\n",
    "#!wget \"https://openreview.net/pdf?id=VtmBAGCN7o\" -O metagpt.pdf\n",
    "\n",
    "**Note**: The pdf file is included with this lesson. To access it, go to the `File` menu and select`Open...`."
   ]
  },
  {
   "cell_type": "markdown",
   "id": "fb741560",
   "metadata": {},
   "source": [
    "## Setup the Query Tools"
   ]
  },
  {
   "cell_type": "code",
   "id": "77464fb2-5ace-4839-9032-a020df8d4259",
   "metadata": {
    "height": 64,
    "tags": [],
    "ExecuteTime": {
     "end_time": "2025-02-09T13:30:56.410635Z",
     "start_time": "2025-02-09T13:30:52.452355Z"
    }
   },
   "source": [
    "from utils import get_doc_tools\n",
    "\n",
    "vector_tool, summary_tool = get_doc_tools(\"metagpt.pdf\", \"metagpt\")"
   ],
   "outputs": [],
   "execution_count": 1
  },
  {
   "cell_type": "markdown",
   "id": "40aae3fc",
   "metadata": {},
   "source": [
    "## Setup Function Calling Agent"
   ]
  },
  {
   "cell_type": "code",
   "id": "ff4f5199-d02c-47b0-a9ab-cf72c8a506a3",
   "metadata": {
    "height": 64,
    "tags": [],
    "ExecuteTime": {
     "end_time": "2025-02-09T13:30:59.318945Z",
     "start_time": "2025-02-09T13:30:59.316312Z"
    }
   },
   "source": [
    "from llama_index.llms.openai import OpenAI\n",
    "\n",
    "llm = OpenAI(model=\"gpt-3.5-turbo\", temperature=0)"
   ],
   "outputs": [],
   "execution_count": 2
  },
  {
   "cell_type": "code",
   "id": "9365d78d-8e9f-4f22-8d57-35a4c6aa6baf",
   "metadata": {
    "height": 166,
    "tags": [],
    "ExecuteTime": {
     "end_time": "2025-02-09T13:31:02.054126Z",
     "start_time": "2025-02-09T13:31:01.888526Z"
    }
   },
   "source": [
    "from llama_index.core.agent import FunctionCallingAgentWorker\n",
    "from llama_index.core.agent import AgentRunner\n",
    "\n",
    "agent_worker = FunctionCallingAgentWorker.from_tools(\n",
    "    [vector_tool, summary_tool], \n",
    "    llm=llm, \n",
    "    verbose=True\n",
    ")\n",
    "agent = AgentRunner(agent_worker)"
   ],
   "outputs": [],
   "execution_count": 3
  },
  {
   "cell_type": "code",
   "id": "5a9535d7-0baf-4905-ad16-5fb903d33b85",
   "metadata": {
    "height": 81,
    "tags": [],
    "ExecuteTime": {
     "end_time": "2025-02-09T13:31:11.893724Z",
     "start_time": "2025-02-09T13:31:04.931691Z"
    }
   },
   "source": [
    "response = agent.query(\n",
    "    \"Tell me about the agent roles in MetaGPT, \"\n",
    "    \"and then how they communicate with each other.\"\n",
    ")"
   ],
   "outputs": [
    {
     "name": "stdout",
     "output_type": "stream",
     "text": [
      "Added user message to memory: Tell me about the agent roles in MetaGPT, and then how they communicate with each other.\n",
      "=== Calling Function ===\n",
      "Calling function: summary_tool_metagpt with args: {\"input\": \"agent roles in MetaGPT\"}\n",
      "=== Function Output ===\n",
      "Encountered error: Detected nested async. Please use nest_asyncio.apply() to allow nested event loops.Or, use async entry methods like `aquery()`, `aretriever`, `achat`, etc.\n"
     ]
    },
    {
     "name": "stderr",
     "output_type": "stream",
     "text": [
      "/Users/zcui/Workspace/pyenv/envs/rag-embedding/lib/python3.10/site-packages/llama_index/core/tools/calling.py:26: RuntimeWarning: coroutine 'run_async_tasks.<locals>._gather' was never awaited\n",
      "  return ToolOutput(\n",
      "RuntimeWarning: Enable tracemalloc to get the object allocation traceback\n",
      "/Users/zcui/Workspace/pyenv/envs/rag-embedding/lib/python3.10/site-packages/llama_index/core/tools/calling.py:26: RuntimeWarning: coroutine 'Dispatcher.span.<locals>.async_wrapper' was never awaited\n",
      "  return ToolOutput(\n",
      "RuntimeWarning: Enable tracemalloc to get the object allocation traceback\n"
     ]
    },
    {
     "name": "stdout",
     "output_type": "stream",
     "text": [
      "=== Calling Function ===\n",
      "Calling function: vector_tool_metagpt with args: {\"query\": \"agent roles in MetaGPT\"}\n",
      "=== Function Output ===\n",
      "Product Manager, Architect, Project Manager, Engineer, and QA Engineer\n",
      "=== Calling Function ===\n",
      "Calling function: summary_tool_metagpt with args: {\"input\": \"how agents communicate with each other in MetaGPT\"}\n",
      "=== Function Output ===\n",
      "Encountered error: Detected nested async. Please use nest_asyncio.apply() to allow nested event loops.Or, use async entry methods like `aquery()`, `aretriever`, `achat`, etc.\n",
      "=== Calling Function ===\n",
      "Calling function: vector_tool_metagpt with args: {\"query\": \"how agents communicate with each other in MetaGPT\"}\n",
      "=== Function Output ===\n",
      "Agents in MetaGPT communicate with each other by utilizing a shared message pool where they publish structured messages and subscribe to relevant messages based on their profiles. This communication protocol allows agents to exchange information efficiently without the need for direct one-to-one communication. Additionally, agents in MetaGPT use a publish-subscribe mechanism to share information transparently and selectively, based on their role-specific interests and dependencies.\n",
      "=== LLM Response ===\n",
      "The agent roles in MetaGPT include Product Manager, Architect, Project Manager, Engineer, and QA Engineer. \n",
      "\n",
      "Agents in MetaGPT communicate with each other by utilizing a shared message pool where they publish structured messages and subscribe to relevant messages based on their profiles. This communication protocol allows agents to exchange information efficiently without the need for direct one-to-one communication. Additionally, agents in MetaGPT use a publish-subscribe mechanism to share information transparently and selectively, based on their role-specific interests and dependencies.\n"
     ]
    }
   ],
   "execution_count": 4
  },
  {
   "cell_type": "code",
   "id": "bcf74ec4-559f-4284-9ed0-817d26951c54",
   "metadata": {
    "height": 30,
    "tags": [],
    "ExecuteTime": {
     "end_time": "2025-02-09T13:31:17.627803Z",
     "start_time": "2025-02-09T13:31:17.625740Z"
    }
   },
   "source": [
    "print(response.source_nodes[0].get_content(metadata_mode=\"all\"))"
   ],
   "outputs": [
    {
     "name": "stdout",
     "output_type": "stream",
     "text": [
      "page_label: 9\n",
      "file_name: metagpt.pdf\n",
      "file_path: metagpt.pdf\n",
      "file_type: application/pdf\n",
      "file_size: 16911937\n",
      "creation_date: 2025-02-09\n",
      "last_modified_date: 2025-02-09\n",
      "\n",
      "Preprint\n",
      "Table 2: Comparison of capabilities for MetaGPT and other approaches. ‘!’ indicates the\n",
      "presence of a specific feature in the corresponding framework, ‘%’ its absence.\n",
      "Framework Capabiliy AutoGPT LangChain AgentVerse ChatDev MetaGPT\n",
      "PRD generation % % % % !\n",
      "Tenical design genenration % % % % !\n",
      "API interface generation % % % % !\n",
      "Code generation ! ! ! ! !\n",
      "Precompilation execution % % % % !\n",
      "Role-based task management % % % ! !\n",
      "Code review % % ! ! !\n",
      "Table 3: Ablation study on roles. ‘#’ denotes ‘The number of’, ‘Product’ denotes ‘Product man-\n",
      "ager’, and ‘Project’ denotes ‘Project manager’. ‘ !’ indicates the addition of a specific role. ‘Revi-\n",
      "sions’ refers to ‘Human Revision Cost’.\n",
      "Engineer Product Architect Project #Agents #Lines Expense Revisions Executability\n",
      "! % % % 1 83.0 $ 0.915 10 1.0\n",
      "! ! % % 2 112.0 $ 1.059 6.5 2.0\n",
      "! ! ! % 3 143.0 $ 1.204 4.0 2.5\n",
      "! ! % ! 3 205.0 $ 1.251 3.5 2.0\n",
      "! ! ! ! 4 191.0 $ 1.385 2.5 4.0\n",
      "can easily integrate SOP-like designs to improve their performance, similar to injecting chain-of-\n",
      "thought (Wei et al., 2022) in LLMs.\n",
      "4.4 A BLATION STUDY\n",
      "The Effectiveness of Roles To understand the impact of different roles on the final results, we\n",
      "perform two tasks that involve generating effective code and calculating average statistics. When we\n",
      "exclude certain roles, unworkable codes are generated. As indicated by Table 3, the addition of roles\n",
      "different from just the Engineer consistently improves both revisions and executability. While more\n",
      "roles slightly increase the expenses, the overall performance improves noticeably, demonstrating the\n",
      "effectiveness of the various roles.\n",
      "The Effectiveness of Executable Feedback Mechanism As shown in Figure 4, adding executable\n",
      "feedback into MetaGPT leads to a significant improvement of 4.2% and 5.4% in Pass @1on Hu-\n",
      "manEval and MBPP, respectively. Besides, Table 1 shows that the feedback mechanism improves\n",
      "feasibility (3.67 to 3.75) and reduces the cost of human revisions (2.25 to 0.83). These results\n",
      "illustrate how our designed feedback mechanism can produce higher-quality code. Additional quan-\n",
      "titative results of MetaGPT and MetaGPT without executable feedback are shown in Table 4 and\n",
      "Table 9.\n",
      "5 C ONCLUSION\n",
      "This work introduces MetaGPT, a novel meta-programming framework that leverages SOPs to en-\n",
      "hance the problem-solving capabilities of multi-agent systems based on Large Language Models\n",
      "(LLMs). MetaGPT models a group of agents as a simulated software company, analogous to simu-\n",
      "lated towns (Park et al., 2023) and the Minecraft Sandbox in V oyager (Wang et al., 2023a). MetaGPT\n",
      "leverages role specialization, workflow management, and efficient sharing mechanisms such as mes-\n",
      "sage pools and subscriptions, rendering it a flexible and portable platform for autonomous agents\n",
      "and multi-agent frameworks. It uses an executable feedback mechanism to enhance code generation\n",
      "quality during runtime. In extensive experiments, MetaGPT achieves state-of-the-art performance\n",
      "on multiple benchmarks. The successful integration of human-like SOPs inspires future research\n",
      "on human-inspired techniques for artificial multi-agent systems. We also view our work as an early\n",
      "attempt to regulate LLM-based multi-agent frameworks. See also the outlook (Appendix A).\n",
      "9\n"
     ]
    }
   ],
   "execution_count": 5
  },
  {
   "cell_type": "code",
   "id": "6b28c184-0b65-4e38-808e-d91a285aaefe",
   "metadata": {
    "height": 64,
    "tags": [],
    "ExecuteTime": {
     "end_time": "2025-02-09T13:31:25.613686Z",
     "start_time": "2025-02-09T13:31:22.211456Z"
    }
   },
   "source": [
    "response = agent.chat(\n",
    "    \"Tell me about the evaluation datasets used.\"\n",
    ")"
   ],
   "outputs": [
    {
     "name": "stdout",
     "output_type": "stream",
     "text": [
      "Added user message to memory: Tell me about the evaluation datasets used.\n",
      "=== Calling Function ===\n",
      "Calling function: summary_tool_metagpt with args: {\"input\": \"evaluation datasets used in MetaGPT\"}\n",
      "=== Function Output ===\n",
      "Encountered error: Detected nested async. Please use nest_asyncio.apply() to allow nested event loops.Or, use async entry methods like `aquery()`, `aretriever`, `achat`, etc.\n",
      "=== Calling Function ===\n",
      "Calling function: vector_tool_metagpt with args: {\"query\": \"evaluation datasets used in MetaGPT\"}\n",
      "=== Function Output ===\n",
      "The evaluation dataset used in MetaGPT is the SoftwareDev dataset, which includes 70 diverse software development tasks.\n",
      "=== LLM Response ===\n",
      "The evaluation dataset used in MetaGPT is the SoftwareDev dataset, which includes 70 diverse software development tasks.\n"
     ]
    }
   ],
   "execution_count": 6
  },
  {
   "cell_type": "code",
   "id": "d9586cef-21b5-4732-b95d-619462b4aaf6",
   "metadata": {
    "height": 30,
    "tags": [],
    "ExecuteTime": {
     "end_time": "2025-02-09T13:31:36.619204Z",
     "start_time": "2025-02-09T13:31:30.316267Z"
    }
   },
   "source": [
    "response = agent.chat(\"Tell me the results over one of the above datasets.\")"
   ],
   "outputs": [
    {
     "name": "stdout",
     "output_type": "stream",
     "text": [
      "Added user message to memory: Tell me the results over one of the above datasets.\n",
      "=== Calling Function ===\n",
      "Calling function: summary_tool_metagpt with args: {\"input\": \"results over the SoftwareDev dataset in MetaGPT\"}\n",
      "=== Function Output ===\n",
      "Encountered error: Detected nested async. Please use nest_asyncio.apply() to allow nested event loops.Or, use async entry methods like `aquery()`, `aretriever`, `achat`, etc.\n",
      "=== Calling Function ===\n",
      "Calling function: vector_tool_metagpt with args: {\"query\": \"results over the SoftwareDev dataset in MetaGPT\"}\n",
      "=== Function Output ===\n",
      "MetaGPT achieves an average score of 3.9 over the SoftwareDev dataset, surpassing ChatDev's score of 2.1. Additionally, MetaGPT's structured messaging and feedback mechanisms not only reduce loss of communication information but also improve the execution of code.\n",
      "=== LLM Response ===\n",
      "MetaGPT achieves an average score of 3.9 over the SoftwareDev dataset, surpassing ChatDev's score of 2.1. Additionally, MetaGPT's structured messaging and feedback mechanisms not only reduce loss of communication information but also improve the execution of code.\n"
     ]
    }
   ],
   "execution_count": 7
  },
  {
   "cell_type": "markdown",
   "id": "1cc4e983",
   "metadata": {},
   "source": [
    "## Lower-Level: Debuggability and Control"
   ]
  },
  {
   "cell_type": "code",
   "id": "55abad72-b189-471a-accc-1621fd19c804",
   "metadata": {
    "height": 115,
    "tags": [],
    "ExecuteTime": {
     "end_time": "2025-02-09T13:31:52.943405Z",
     "start_time": "2025-02-09T13:31:52.940308Z"
    }
   },
   "source": [
    "agent_worker = FunctionCallingAgentWorker.from_tools(\n",
    "    [vector_tool, summary_tool], \n",
    "    llm=llm, \n",
    "    verbose=True\n",
    ")\n",
    "agent = AgentRunner(agent_worker)"
   ],
   "outputs": [],
   "execution_count": 8
  },
  {
   "cell_type": "code",
   "id": "18e911aa-4640-4f89-99c8-6cdf6aff07c6",
   "metadata": {
    "height": 81,
    "tags": [],
    "ExecuteTime": {
     "end_time": "2025-02-09T13:31:56.945254Z",
     "start_time": "2025-02-09T13:31:56.942442Z"
    }
   },
   "source": [
    "task = agent.create_task(\n",
    "    \"Tell me about the agent roles in MetaGPT, \"\n",
    "    \"and then how they communicate with each other.\"\n",
    ")"
   ],
   "outputs": [],
   "execution_count": 9
  },
  {
   "cell_type": "code",
   "id": "5eaf0b88-e03a-4dd9-91f6-f6f0c8758e64",
   "metadata": {
    "height": 30,
    "tags": [],
    "ExecuteTime": {
     "end_time": "2025-02-09T13:32:03.210362Z",
     "start_time": "2025-02-09T13:32:01.956496Z"
    }
   },
   "source": [
    "step_output = agent.run_step(task.task_id)"
   ],
   "outputs": [
    {
     "name": "stdout",
     "output_type": "stream",
     "text": [
      "Added user message to memory: Tell me about the agent roles in MetaGPT, and then how they communicate with each other.\n",
      "=== Calling Function ===\n",
      "Calling function: summary_tool_metagpt with args: {\"input\": \"agent roles in MetaGPT\"}\n",
      "=== Function Output ===\n",
      "Encountered error: Detected nested async. Please use nest_asyncio.apply() to allow nested event loops.Or, use async entry methods like `aquery()`, `aretriever`, `achat`, etc.\n",
      "=== Calling Function ===\n",
      "Calling function: summary_tool_metagpt with args: {\"input\": \"how agents communicate with each other in MetaGPT\"}\n",
      "=== Function Output ===\n",
      "Encountered error: Detected nested async. Please use nest_asyncio.apply() to allow nested event loops.Or, use async entry methods like `aquery()`, `aretriever`, `achat`, etc.\n"
     ]
    }
   ],
   "execution_count": 10
  },
  {
   "cell_type": "code",
   "id": "a8e77fac-8734-4071-a672-b3a9f30e2bf1",
   "metadata": {
    "height": 64,
    "tags": [],
    "ExecuteTime": {
     "end_time": "2025-02-09T13:32:05.881493Z",
     "start_time": "2025-02-09T13:32:05.878387Z"
    }
   },
   "source": [
    "completed_steps = agent.get_completed_steps(task.task_id)\n",
    "print(f\"Num completed for task {task.task_id}: {len(completed_steps)}\")\n",
    "print(completed_steps[0].output.sources[0].raw_output)"
   ],
   "outputs": [
    {
     "name": "stdout",
     "output_type": "stream",
     "text": [
      "Num completed for task 6552b6fb-9341-4d50-868f-bfd77c6c6918: 1\n",
      "Detected nested async. Please use nest_asyncio.apply() to allow nested event loops.Or, use async entry methods like `aquery()`, `aretriever`, `achat`, etc.\n"
     ]
    }
   ],
   "execution_count": 11
  },
  {
   "cell_type": "code",
   "id": "db8de410-4b82-4daf-93da-28da57cbb0bb",
   "metadata": {
    "height": 64,
    "tags": [],
    "ExecuteTime": {
     "end_time": "2025-02-09T13:32:08.955652Z",
     "start_time": "2025-02-09T13:32:08.951642Z"
    }
   },
   "source": [
    "upcoming_steps = agent.get_upcoming_steps(task.task_id)\n",
    "print(f\"Num upcoming steps for task {task.task_id}: {len(upcoming_steps)}\")\n",
    "upcoming_steps[0]"
   ],
   "outputs": [
    {
     "name": "stdout",
     "output_type": "stream",
     "text": [
      "Num upcoming steps for task 6552b6fb-9341-4d50-868f-bfd77c6c6918: 1\n"
     ]
    },
    {
     "data": {
      "text/plain": [
       "TaskStep(task_id='6552b6fb-9341-4d50-868f-bfd77c6c6918', step_id='f71aabe5-9885-465c-ba9e-4830ead48ec6', input=None, step_state={}, next_steps={}, prev_steps={}, is_ready=True)"
      ]
     },
     "execution_count": 12,
     "metadata": {},
     "output_type": "execute_result"
    }
   ],
   "execution_count": 12
  },
  {
   "cell_type": "code",
   "id": "dc352582-2c17-46ef-ba80-0f571e920c3c",
   "metadata": {
    "height": 64,
    "tags": [],
    "ExecuteTime": {
     "end_time": "2025-02-09T13:32:12.039352Z",
     "start_time": "2025-02-09T13:32:11.194820Z"
    }
   },
   "source": [
    "step_output = agent.run_step(\n",
    "    task.task_id, input=\"What about how agents share information?\"\n",
    ")"
   ],
   "outputs": [
    {
     "name": "stdout",
     "output_type": "stream",
     "text": [
      "Added user message to memory: What about how agents share information?\n",
      "=== Calling Function ===\n",
      "Calling function: summary_tool_metagpt with args: {\"input\": \"how agents share information in MetaGPT\"}\n",
      "=== Function Output ===\n",
      "Encountered error: Detected nested async. Please use nest_asyncio.apply() to allow nested event loops.Or, use async entry methods like `aquery()`, `aretriever`, `achat`, etc.\n"
     ]
    }
   ],
   "execution_count": 13
  },
  {
   "cell_type": "code",
   "id": "be80661f-81b1-45fc-b0ba-33a04dae849b",
   "metadata": {
    "height": 47,
    "tags": [],
    "ExecuteTime": {
     "end_time": "2025-02-09T13:32:31.273229Z",
     "start_time": "2025-02-09T13:32:29.832997Z"
    }
   },
   "source": [
    "step_output = agent.run_step(task.task_id)\n",
    "print(step_output.is_last)"
   ],
   "outputs": [
    {
     "name": "stdout",
     "output_type": "stream",
     "text": [
      "=== LLM Response ===\n",
      "I apologize for the inconvenience. It seems there is an issue with retrieving the information on how agents share information in MetaGPT. Let me try to provide a summary based on my knowledge.\n",
      "\n",
      "In MetaGPT, agents share information through a collaborative process where each agent contributes to the overall understanding and generation of text. The agents communicate with each other by exchanging information and insights, leveraging their individual capabilities to enhance the collective intelligence of the system. This collaborative approach allows the agents to work together effectively and produce coherent and contextually relevant text outputs.\n",
      "\n",
      "If you have any specific questions or need further details, please let me know.\n",
      "True\n"
     ]
    }
   ],
   "execution_count": 16
  },
  {
   "cell_type": "code",
   "id": "4496328c-e6d5-4722-a8df-78a73a441b3c",
   "metadata": {
    "height": 30,
    "tags": [],
    "ExecuteTime": {
     "end_time": "2025-02-09T13:32:35.064695Z",
     "start_time": "2025-02-09T13:32:35.061170Z"
    }
   },
   "source": [
    "response = agent.finalize_response(task.task_id)"
   ],
   "outputs": [],
   "execution_count": 17
  },
  {
   "cell_type": "code",
   "id": "601d1bed-78b2-4512-87ac-aec5ce5d8494",
   "metadata": {
    "height": 30,
    "tags": [],
    "ExecuteTime": {
     "end_time": "2025-02-09T13:32:37.048580Z",
     "start_time": "2025-02-09T13:32:37.045472Z"
    }
   },
   "source": [
    "print(str(response))"
   ],
   "outputs": [
    {
     "name": "stdout",
     "output_type": "stream",
     "text": [
      "I apologize for the inconvenience. It seems there is an issue with retrieving the information on how agents share information in MetaGPT. Let me try to provide a summary based on my knowledge.\n",
      "\n",
      "In MetaGPT, agents share information through a collaborative process where each agent contributes to the overall understanding and generation of text. The agents communicate with each other by exchanging information and insights, leveraging their individual capabilities to enhance the collective intelligence of the system. This collaborative approach allows the agents to work together effectively and produce coherent and contextually relevant text outputs.\n",
      "\n",
      "If you have any specific questions or need further details, please let me know.\n"
     ]
    }
   ],
   "execution_count": 18
  }
 ],
 "metadata": {
  "kernelspec": {
   "display_name": "Python 3 (ipykernel)",
   "language": "python",
   "name": "python3"
  },
  "language_info": {
   "codemirror_mode": {
    "name": "ipython",
    "version": 3
   },
   "file_extension": ".py",
   "mimetype": "text/x-python",
   "name": "python",
   "nbconvert_exporter": "python",
   "pygments_lexer": "ipython3",
   "version": "3.11.9"
  }
 },
 "nbformat": 4,
 "nbformat_minor": 5
}
