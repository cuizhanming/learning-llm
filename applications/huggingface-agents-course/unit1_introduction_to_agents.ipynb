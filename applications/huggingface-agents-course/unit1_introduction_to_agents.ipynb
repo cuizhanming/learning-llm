{
 "cells": [
  {
   "metadata": {},
   "cell_type": "markdown",
   "source": [
    "## What is an agent?\n",
    "> AI model capable of reasoning, planning, and interacting with its environment.\n",
    "> An Agent is a system that leverages an AI model to interact with its environment in order to achieve a user-defined objective. It combines reasoning, planning, and the execution of actions (often via external tools) to fulfill tasks."
   ],
   "id": "b2aa75532a614915"
  }
 ],
 "metadata": {
  "kernelspec": {
   "display_name": "Python 3",
   "language": "python",
   "name": "python3"
  },
  "language_info": {
   "codemirror_mode": {
    "name": "ipython",
    "version": 2
   },
   "file_extension": ".py",
   "mimetype": "text/x-python",
   "name": "python",
   "nbconvert_exporter": "python",
   "pygments_lexer": "ipython2",
   "version": "2.7.6"
  }
 },
 "nbformat": 4,
 "nbformat_minor": 5
}
