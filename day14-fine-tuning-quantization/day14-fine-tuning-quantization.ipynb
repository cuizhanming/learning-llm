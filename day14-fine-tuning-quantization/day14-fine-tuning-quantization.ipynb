{
 "cells": [
  {
   "metadata": {},
   "cell_type": "markdown",
   "source": [
    "# 1. LLaMA-Factory `Evaluation` Tab\n",
    "\n",
    "## 1.1 Manual Evaluation\n",
    "<img src=\"./assets/Chat-with-Checkpoint.jpg\" style=\"margin-left: 0px\" width=1024px>\n",
    "\n",
    "## 1.2 Evaluation with verification dataset\n",
    "<img src=\"./assets/LLaMAFactory-Evaluation-1.jpg\" style=\"margin-left: 0px\" width=1024px>"
   ],
   "id": "adb81139e8f1a23f"
  },
  {
   "metadata": {},
   "cell_type": "markdown",
   "source": [
    "# 2. Dataset Format Transformation\n",
    "\n",
    "- Download Dateset from ModelScope/HuggingFace,\n",
    "- Convert Dataset to LLaMA-Factory format, by LLM generated Python code"
   ],
   "id": "e1a16d10568dde8e"
  },
  {
   "metadata": {},
   "cell_type": "code",
   "outputs": [],
   "execution_count": null,
   "source": [
    "import json\n",
    "\n",
    "def convert_json_format(input_file, output_file):\n",
    "    with open(input_file, 'r', encoding='utf-8') as f:\n",
    "        data = json.load(f)\n",
    "\n",
    "    for item in data:\n",
    "        item['instruction'] = item.pop('query')\n",
    "        item['input'] = ''\n",
    "        item['output'] = item.pop('response')\n",
    "\n",
    "    with open(output_file, 'w', encoding='utf-8') as f:\n",
    "        json.dump(data, f, ensure_ascii=False, indent=4)\n",
    "\n",
    "input_file = './dataset/ruozhiba_qaswift.json'\n",
    "output_file = './dataset/ruozhiba.json'\n",
    "\n",
    "convert_json_format(input_file, output_file)"
   ],
   "id": "de393b8b706f1b91"
  },
  {
   "metadata": {},
   "cell_type": "markdown",
   "source": [
    "# 3. LLaMA-Factory Model Quantization Export\n",
    "When the model is trained, there are 2 factors to consider: 精度(accuracy) vs 性能(performance)\n",
    "Techniques to improve performance:\n",
    "- Pruning: remove unnecessary weights from the model (剪枝，删除不必要的参数)\n",
    "- Knowledge Distillation: train a smaller model to mimic the behavior of a larger model (知识蒸馏，训练一个小模型来模拟大模型的行为)\n",
    "- Quantization: reduce the precision of the model's weights and activations (裁剪参数的存储精度)\n",
    "    - float32 -> float16 -> qint8 -> qinf4 -> qinf2\n",
    "\n",
    "## 3.1 Export the model merged with lora\n",
    "\n",
    "<img src=\"./assets/Export-Quantization-4.jpg\" style=\"margin-left: 0px\" width=1024px>\n",
    "\n",
    "## 3.2 Manually verify the quantization model with HuggingFace inference framework\n",
    "\n",
    "<img src=\"./assets/Chat-with-Quantization-4-hf.jpg\" style=\"margin-left: 0px\" width=1024px>\n",
    "\n",
    "## 3.3 Manually verify the quantization model with VLLM inference framework\n",
    "\n",
    "<img src=\"./assets/Chat-with-Quantization-4-vllm.jpg\" style=\"margin-left: 0px\" width=1024px>"
   ],
   "id": "55ef1230c5ddb52f"
  }
 ],
 "metadata": {
  "kernelspec": {
   "display_name": "Python 3",
   "language": "python",
   "name": "python3"
  },
  "language_info": {
   "codemirror_mode": {
    "name": "ipython",
    "version": 2
   },
   "file_extension": ".py",
   "mimetype": "text/x-python",
   "name": "python",
   "nbconvert_exporter": "python",
   "pygments_lexer": "ipython2",
   "version": "2.7.6"
  }
 },
 "nbformat": 4,
 "nbformat_minor": 5
}
