{
 "cells": [
  {
   "metadata": {},
   "cell_type": "markdown",
   "source": [
    "# 1. LLaMA-Factory `Evaluation` Tab\n",
    "\n",
    "## 1.1 Understand Evaluation Output\n",
    "[CSDN blog](https://blog.csdn.net/weixin_45573296/article/details/141333719)\n",
    "- BLEU-4: BLEU分数：评价一种语言翻译成另一种语言的文本质量的指标。BLEU分数越高，表示翻译质量越高。\n",
    "- ROUGE: 指标是在机器翻译、自动摘要、问答生成等领域常见的评估指标。\n",
    "ROUGE+通过将模型生成的摘要或者回答与参考答案(一般是人工生成的)进行比较计算，得到对应的得分。\n",
    "ROUGE指标与BLEU指标非常类似，均可用来衡量生成结果和标准结果的匹配程度，不同的是ROUGE基于`召回率`，BLEU更看重`准确率`。\n",
    "- ROUGE也分为四种方法:\n",
    "    - ROUGE-N (N=1,2,3,4)\n",
    "    - ROUGE-L\n",
    "    - ROUGE-W\n",
    "    - ROUGE-S\n",
    "\n",
    "\n",
    "\n",
    "<img src=\"./assets/LLaMAFactory-Evaluation-Output.jpg\" style=\"margin-left: 0px\" width=1024px>"
   ],
   "id": "adb81139e8f1a23f"
  },
  {
   "metadata": {},
   "cell_type": "markdown",
   "source": [
    "# 2. LLaMA-Factory QLoRA: Quantization at training stage\n",
    "\n",
    "\n"
   ],
   "id": "55ef1230c5ddb52f"
  }
 ],
 "metadata": {
  "kernelspec": {
   "display_name": "Python 3",
   "language": "python",
   "name": "python3"
  },
  "language_info": {
   "codemirror_mode": {
    "name": "ipython",
    "version": 2
   },
   "file_extension": ".py",
   "mimetype": "text/x-python",
   "name": "python",
   "nbconvert_exporter": "python",
   "pygments_lexer": "ipython2",
   "version": "2.7.6"
  }
 },
 "nbformat": 4,
 "nbformat_minor": 5
}
