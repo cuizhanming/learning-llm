{
 "cells": [
  {
   "metadata": {},
   "cell_type": "markdown",
   "source": [
    "## 1. ModelScope\n",
    "\n",
    "- HuggingFace Mirror hf-mirror.com\n",
    "-"
   ],
   "id": "950b011e2b6f8c7a"
  },
  {
   "metadata": {},
   "cell_type": "markdown",
   "source": "## 2. AUTODL.com",
   "id": "9ff0e5109ad66547"
  }
 ],
 "metadata": {
  "kernelspec": {
   "display_name": "Python 3",
   "language": "python",
   "name": "python3"
  },
  "language_info": {
   "codemirror_mode": {
    "name": "ipython",
    "version": 2
   },
   "file_extension": ".py",
   "mimetype": "text/x-python",
   "name": "python",
   "nbconvert_exporter": "python",
   "pygments_lexer": "ipython2",
   "version": "2.7.6"
  }
 },
 "nbformat": 4,
 "nbformat_minor": 5
}
