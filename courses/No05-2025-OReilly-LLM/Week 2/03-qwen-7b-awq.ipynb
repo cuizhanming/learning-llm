{
 "cells": [
  {
   "cell_type": "code",
   "execution_count": 1,
   "id": "8e95088d",
   "metadata": {},
   "outputs": [
    {
     "data": {
      "text/plain": [
       "_CudaDeviceProperties(name='NVIDIA GeForce RTX 4090', major=8, minor=9, total_memory=24089MB, multi_processor_count=128, uuid=68ce6bda-4517-9a6c-268d-51bbda3ffa99, L2_cache_size=72MB)"
      ]
     },
     "execution_count": 1,
     "metadata": {},
     "output_type": "execute_result"
    }
   ],
   "source": [
    "import torch\n",
    "torch.cuda.get_device_properties(0) "
   ]
  },
  {
   "cell_type": "code",
   "execution_count": 2,
   "id": "fce29a92",
   "metadata": {},
   "outputs": [
    {
     "data": {
      "application/vnd.jupyter.widget-view+json": {
       "model_id": "381946f61123415c8d5d319398881b24",
       "version_major": 2,
       "version_minor": 0
      },
      "text/plain": [
       "Loading checkpoint shards:   0%|          | 0/2 [00:00<?, ?it/s]"
      ]
     },
     "metadata": {},
     "output_type": "display_data"
    }
   ],
   "source": [
    "from transformers import AutoModelForCausalLM\n",
    "\n",
    "model_name = \"Qwen/Qwen2.5-7B-Instruct-AWQ\"\n",
    "\n",
    "model = AutoModelForCausalLM.from_pretrained(model_name, \n",
    "                                             device_map=\"auto\")"
   ]
  },
  {
   "cell_type": "code",
   "execution_count": 3,
   "id": "7cd9dcfc",
   "metadata": {},
   "outputs": [
    {
     "data": {
      "text/plain": [
       "Qwen2ForCausalLM(\n",
       "  (model): Qwen2Model(\n",
       "    (embed_tokens): Embedding(152064, 3584)\n",
       "    (layers): ModuleList(\n",
       "      (0-27): 28 x Qwen2DecoderLayer(\n",
       "        (self_attn): Qwen2Attention(\n",
       "          (q_proj): WQLinear_GEMM(in_features=3584, out_features=3584, bias=True, w_bit=4, group_size=128)\n",
       "          (k_proj): WQLinear_GEMM(in_features=3584, out_features=512, bias=True, w_bit=4, group_size=128)\n",
       "          (v_proj): WQLinear_GEMM(in_features=3584, out_features=512, bias=True, w_bit=4, group_size=128)\n",
       "          (o_proj): WQLinear_GEMM(in_features=3584, out_features=3584, bias=False, w_bit=4, group_size=128)\n",
       "        )\n",
       "        (mlp): Qwen2MLP(\n",
       "          (gate_proj): WQLinear_GEMM(in_features=3584, out_features=18944, bias=False, w_bit=4, group_size=128)\n",
       "          (up_proj): WQLinear_GEMM(in_features=3584, out_features=18944, bias=False, w_bit=4, group_size=128)\n",
       "          (down_proj): WQLinear_GEMM(in_features=18944, out_features=3584, bias=False, w_bit=4, group_size=128)\n",
       "          (act_fn): SiLU()\n",
       "        )\n",
       "        (input_layernorm): Qwen2RMSNorm((3584,), eps=1e-06)\n",
       "        (post_attention_layernorm): Qwen2RMSNorm((3584,), eps=1e-06)\n",
       "      )\n",
       "    )\n",
       "    (norm): Qwen2RMSNorm((3584,), eps=1e-06)\n",
       "    (rotary_emb): Qwen2RotaryEmbedding()\n",
       "  )\n",
       "  (lm_head): Linear(in_features=3584, out_features=152064, bias=False)\n",
       ")"
      ]
     },
     "execution_count": 3,
     "metadata": {},
     "output_type": "execute_result"
    }
   ],
   "source": [
    "model.cuda()"
   ]
  },
  {
   "cell_type": "code",
   "execution_count": 4,
   "id": "8a23799f-fba4-4fd4-a2c4-675268feea87",
   "metadata": {},
   "outputs": [
    {
     "data": {
      "text/plain": [
       "\"<|im_start|>system\\nYou are a helpful assistant.<|im_end|>\\n<|im_start|>user\\nTell me about O'Reilly online learning<|im_end|>\\n<|im_start|>assistant\\n\""
      ]
     },
     "execution_count": 4,
     "metadata": {},
     "output_type": "execute_result"
    }
   ],
   "source": [
    "from transformers import AutoTokenizer\n",
    "\n",
    "tokenizer = AutoTokenizer.from_pretrained(model_name, use_fast=True)\n",
    "\n",
    "prompt = \"Tell me about O'Reilly online learning\"\n",
    "messages = [\n",
    "    {\"role\": \"system\", \"content\": \"You are a helpful assistant.\"},\n",
    "    {\"role\": \"user\", \"content\": prompt}\n",
    "]\n",
    "text = tokenizer.apply_chat_template(\n",
    "    messages,\n",
    "    tokenize=False,\n",
    "    add_generation_prompt=True\n",
    ")\n",
    "text"
   ]
  },
  {
   "cell_type": "code",
   "execution_count": 5,
   "id": "d9be6f2a",
   "metadata": {},
   "outputs": [
    {
     "name": "stdout",
     "output_type": "stream",
     "text": [
      "\n",
      "\n",
      "*** Generate:\n",
      "<|im_start|>system\n",
      "You are a helpful assistant.<|im_end|>\n",
      "<|im_start|>user\n",
      "Tell me about O'Reilly online learning<|im_end|>\n",
      "<|im_start|>assistant\n",
      "O'Reilly Online Learning is part of O'Reilly Media, a well-known publisher of books and resources on technology, business, data science, software development, and more. O'Reilly Online Learning provides an extensive library of video courses, articles, and books that cater to both beginners and advanced learners in various fields.\n",
      "\n",
      "Here are some key features and aspects of O'Reilly Online Learning:\n",
      "\n",
      "1. **Video Courses**: O'Reilly offers hundreds of video courses taught by industry experts. These courses cover a wide range of topics, from programming languages (Python, JavaScript, etc.) to data analysis, machine learning, and design principles.\n",
      "\n",
      "2. **Articles and Tutorials**: The platform includes a wealth of articles, tutorials, and practical guides that help you deepen your understanding and skills.\n",
      "\n",
      "3. **Books**: Access to O'Reilly's extensive catalog of books is included in the subscription. You can read entire books or specific sections as needed.\n",
      "\n",
      "4. **Interactive Learning**: Some courses include interactive elements, such as quizzes, exercises, and hands-on projects to reinforce learning.\n",
      "\n",
      "5. **Certifications**: O'Reilly offers certifications to validate your skills. Completing certain courses and passing exams can earn you official certifications.\n",
      "\n",
      "6. **Flexible Learning**: You can access the content anytime, anywhere, making it convenient for busy professionals and students.\n",
      "\n",
      "7. **Community and Support**: O'Reilly has a community forum where learners can ask questions, share knowledge, and engage with other learners and instructors.\n",
      "\n",
      "8. **Subscription Options**: There are different subscription plans available, including individual subscriptions and corporate plans for teams and organizations.\n",
      "\n",
      "9. **Continuous Updates**: O'Reilly regularly updates its content to ensure it remains relevant and aligned with current trends and technologies.\n",
      "\n",
      "10. **Cross-Platform Accessibility**: Content is accessible via web browsers, mobile apps, and other platforms, making it easy to learn on the go.\n",
      "\n",
      "O'Reilly Online Learning is particularly valuable for those seeking to enhance their technical skills, stay updated with the latest trends, and gain a competitive edge in their careers. It's a comprehensive resource that covers a broad spectrum of topics and provides a structured approach to learning.<|im_end|>\n",
      "17.722872018814087 used, 26.068009717022964 tokens/s\n"
     ]
    }
   ],
   "source": [
    "import time\n",
    "\n",
    "start = time.time()\n",
    "print(\"\\n\\n*** Generate:\")\n",
    "\n",
    "tokens = tokenizer(text, return_tensors='pt')\n",
    "output = model.generate(inputs=tokens.input_ids.cuda(), attention_mask=tokens.attention_mask.cuda(),\n",
    "                        temperature=0.7, \n",
    "                        do_sample=True, top_p=0.95, top_k=40, \n",
    "                        max_new_tokens=512)\n",
    "used = time.time() - start\n",
    "tps = len(output[0]) / used\n",
    "print(tokenizer.decode(output[0]))\n",
    "print(f\"{used} seconds, {tps} tokens/s\")"
   ]
  },
  {
   "cell_type": "code",
   "execution_count": null,
   "id": "f943e8cc",
   "metadata": {},
   "outputs": [],
   "source": [
    "!nvidia-smi"
   ]
  },
  {
   "cell_type": "code",
   "execution_count": null,
   "id": "9e08a1f3",
   "metadata": {},
   "outputs": [],
   "source": []
  }
 ],
 "metadata": {
  "kernelspec": {
   "display_name": "Python 3 (ipykernel)",
   "language": "python",
   "name": "python3"
  },
  "language_info": {
   "codemirror_mode": {
    "name": "ipython",
    "version": 3
   },
   "file_extension": ".py",
   "mimetype": "text/x-python",
   "name": "python",
   "nbconvert_exporter": "python",
   "pygments_lexer": "ipython3",
   "version": "3.12.3"
  }
 },
 "nbformat": 4,
 "nbformat_minor": 5
}
