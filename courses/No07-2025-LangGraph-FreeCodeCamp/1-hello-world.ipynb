{
 "cells": [
  {
   "cell_type": "code",
   "id": "initial_id",
   "metadata": {
    "collapsed": true,
    "ExecuteTime": {
     "end_time": "2025-05-31T13:43:05.323287Z",
     "start_time": "2025-05-31T13:43:05.321121Z"
    }
   },
   "source": [
    "from typing import TypedDict\n",
    "from langgraph.graph import StateGraph, state"
   ],
   "outputs": [],
   "execution_count": 18
  },
  {
   "metadata": {
    "ExecuteTime": {
     "end_time": "2025-05-31T13:43:20.566587Z",
     "start_time": "2025-05-31T13:43:20.563335Z"
    }
   },
   "cell_type": "code",
   "source": [
    "class AgentState(TypedDict):\n",
    "    message: str\n",
    "    name: str\n",
    "\n",
    "def greeting_node(state: AgentState) -> AgentState:\n",
    "    \"\"\"Simple node that added a greeting message to the state\"\"\"\n",
    "    state['message'] = 'Hello, ' + state['message'] + \", how is your day going?\"\n",
    "    return state\n",
    "\n",
    "def compliment_node(state: AgentState) -> AgentState:\n",
    "    \"\"\"Simple node that added a compliment to the state\"\"\"\n",
    "    state['name'] = state['name'] + \", you're doing an amazing job learning LangGraph!\"\n",
    "    return state\n"
   ],
   "id": "40e549c4a2627c37",
   "outputs": [],
   "execution_count": 22
  },
  {
   "metadata": {
    "ExecuteTime": {
     "end_time": "2025-05-31T13:43:24.089801Z",
     "start_time": "2025-05-31T13:43:24.085385Z"
    }
   },
   "cell_type": "code",
   "source": [
    "graph = StateGraph(AgentState)\n",
    "\n",
    "graph.add_node('greeter', greeting_node)\n",
    "graph.add_node('compliment', compliment_node)\n",
    "\n",
    "graph.set_entry_point(\"greeter\")\n",
    "graph.add_edge(\"greeter\", \"compliment\")\n",
    "graph.set_finish_point(\"compliment\")\n",
    "\n",
    "app = graph.compile()"
   ],
   "id": "3d465f0277e004e7",
   "outputs": [],
   "execution_count": 23
  },
  {
   "metadata": {
    "ExecuteTime": {
     "end_time": "2025-05-31T13:43:27.479304Z",
     "start_time": "2025-05-31T13:43:27.256673Z"
    }
   },
   "cell_type": "code",
   "source": [
    "from IPython.display import Image, display\n",
    "\n",
    "display(Image(app.get_graph().draw_mermaid_png()))"
   ],
   "id": "e8f9ed927f2c9662",
   "outputs": [
    {
     "data": {
      "image/png": "[encoded data removed]",
      "text/plain": [
       "<IPython.core.display.Image object>"
      ]
     },
     "metadata": {},
     "output_type": "display_data"
    }
   ],
   "execution_count": 24
  },
  {
   "metadata": {
    "ExecuteTime": {
     "end_time": "2025-05-31T13:43:41.856741Z",
     "start_time": "2025-05-31T13:43:41.851141Z"
    }
   },
   "cell_type": "code",
   "source": "result = app.invoke({\"message\": \"Poo poo head toilet\", \"name\": \"Josh\"})",
   "id": "17734c9d4bd4b98d",
   "outputs": [],
   "execution_count": 25
  },
  {
   "metadata": {
    "ExecuteTime": {
     "end_time": "2025-05-31T14:55:08.026503Z",
     "start_time": "2025-05-31T14:55:08.023694Z"
    }
   },
   "cell_type": "code",
   "source": "print(result[\"message\"], result[\"name\"])",
   "id": "1a0e5f68d8034e24",
   "outputs": [
    {
     "name": "stdout",
     "output_type": "stream",
     "text": [
      "Hello, Poo poo head toilet, how is your day going? Josh, you're doing an amazing job learning LangGraph!\n"
     ]
    }
   ],
   "execution_count": 31
  }
 ],
 "metadata": {
  "kernelspec": {
   "display_name": "Python 3",
   "language": "python",
   "name": "python3"
  },
  "language_info": {
   "codemirror_mode": {
    "name": "ipython",
    "version": 2
   },
   "file_extension": ".py",
   "mimetype": "text/x-python",
   "name": "python",
   "nbconvert_exporter": "python",
   "pygments_lexer": "ipython2",
   "version": "2.7.6"
  }
 },
 "nbformat": 4,
 "nbformat_minor": 5
}
