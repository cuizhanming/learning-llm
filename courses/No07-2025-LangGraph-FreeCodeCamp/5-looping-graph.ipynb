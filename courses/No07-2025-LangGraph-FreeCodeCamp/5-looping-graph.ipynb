{
 "cells": [
  {
   "cell_type": "code",
   "id": "initial_id",
   "metadata": {
    "collapsed": true,
    "ExecuteTime": {
     "end_time": "2025-05-31T15:06:27.851538Z",
     "start_time": "2025-05-31T15:06:27.573283Z"
    }
   },
   "source": [
    "from typing import TypedDict, List, Dict\n",
    "from langgraph.graph import StateGraph, START, END\n",
    "import random"
   ],
   "outputs": [],
   "execution_count": 3
  },
  {
   "metadata": {
    "ExecuteTime": {
     "end_time": "2025-05-31T15:06:28.628195Z",
     "start_time": "2025-05-31T15:06:28.623252Z"
    }
   },
   "cell_type": "code",
   "source": [
    "class AgentState(TypedDict):\n",
    "    name: str\n",
    "    number: List[int]\n",
    "    counter: int\n",
    "\n",
    "def greeting_node(state: AgentState) -> AgentState:\n",
    "    \"\"\"Greeting Node\"\"\"\n",
    "    state['name'] = f\"Hi there, {state['name']}!\"\n",
    "    state['counter'] = 0\n",
    "    return state\n",
    "\n",
    "def random_node(state: AgentState) -> AgentState:\n",
    "    \"\"\"Random Node\"\"\"\n",
    "    state['number'].append(random.randint(0, 10))\n",
    "    state['counter'] += 1\n",
    "\n",
    "    return state\n",
    "\n",
    "def should_continue(state: AgentState) -> AgentState:\n",
    "    \"\"\"Should Continue\"\"\"\n",
    "    if state['counter'] < 5:\n",
    "        print(\"Entering loop\", state['counter'])\n",
    "        return \"loop\"\n",
    "    else:\n",
    "        return \"exit\"\n"
   ],
   "id": "40e549c4a2627c37",
   "outputs": [],
   "execution_count": 4
  },
  {
   "metadata": {
    "ExecuteTime": {
     "end_time": "2025-05-31T15:07:06.002241Z",
     "start_time": "2025-05-31T15:07:05.996882Z"
    }
   },
   "cell_type": "code",
   "source": [
    "graph = StateGraph(AgentState)\n",
    "\n",
    "graph.add_node('greeting_node', greeting_node)\n",
    "graph.add_node('random_node', random_node)\n",
    "\n",
    "graph.add_edge(START, \"greeting_node\")\n",
    "graph.add_edge(\"greeting_node\", \"random_node\")\n",
    "\n",
    "graph.add_conditional_edges(\"random_node\", should_continue, {\n",
    "    \"loop\": \"random_node\",\n",
    "    \"exit\": END})\n",
    "\n",
    "app = graph.compile()"
   ],
   "id": "3d465f0277e004e7",
   "outputs": [],
   "execution_count": 6
  },
  {
   "metadata": {
    "ExecuteTime": {
     "end_time": "2025-05-31T15:07:08.303277Z",
     "start_time": "2025-05-31T15:07:08.079994Z"
    }
   },
   "cell_type": "code",
   "source": [
    "from IPython.display import Image, display\n",
    "\n",
    "display(Image(app.get_graph().draw_mermaid_png()))"
   ],
   "id": "e8f9ed927f2c9662",
   "outputs": [
    {
     "data": {
      "image/png": "[encoded data removed]",
      "text/plain": [
       "<IPython.core.display.Image object>"
      ]
     },
     "metadata": {},
     "output_type": "display_data"
    }
   ],
   "execution_count": 7
  },
  {
   "metadata": {
    "ExecuteTime": {
     "end_time": "2025-05-31T15:08:02.892991Z",
     "start_time": "2025-05-31T15:08:02.885590Z"
    }
   },
   "cell_type": "code",
   "source": "answer = app.invoke({\"name\": \"z\", \"number\": [1, 2, 3], \"counter\": 0})",
   "id": "17734c9d4bd4b98d",
   "outputs": [
    {
     "name": "stdout",
     "output_type": "stream",
     "text": [
      "Entering loop 1\n",
      "Entering loop 2\n",
      "Entering loop 3\n",
      "Entering loop 4\n"
     ]
    }
   ],
   "execution_count": 9
  },
  {
   "metadata": {
    "ExecuteTime": {
     "end_time": "2025-05-31T15:08:24.599551Z",
     "start_time": "2025-05-31T15:08:24.596967Z"
    }
   },
   "cell_type": "code",
   "source": "print(answer)",
   "id": "1a0e5f68d8034e24",
   "outputs": [
    {
     "name": "stdout",
     "output_type": "stream",
     "text": [
      "{'name': 'Hi there, z!', 'number': [1, 2, 3, 9, 8, 8, 10, 7], 'counter': 5}\n"
     ]
    }
   ],
   "execution_count": 11
  },
  {
   "metadata": {},
   "cell_type": "markdown",
   "source": "## Exercise V",
   "id": "a390d8e0d62d7f31"
  },
  {
   "metadata": {
    "ExecuteTime": {
     "end_time": "2025-05-31T16:21:47.380389Z",
     "start_time": "2025-05-31T16:21:47.372591Z"
    }
   },
   "cell_type": "code",
   "source": [
    "from typing import TypedDict\n",
    "from langgraph.graph import StateGraph\n",
    "\n",
    "class AgentState(TypedDict):\n",
    "    player_name: str\n",
    "    guesses: List[int]\n",
    "    attempts: int\n",
    "    lower_bound: int\n",
    "    upper_bound: int\n",
    "    target_number: int\n",
    "    last_higher: int\n",
    "    last_lower: int\n",
    "    hint: str\n",
    "\n",
    "def setup(state: AgentState) -> AgentState:\n",
    "    \"\"\"Set up the boundary\"\"\"\n",
    "    state['lower_bound'] = 1\n",
    "    state['upper_bound'] = 20\n",
    "    return state\n",
    "\n",
    "def guess(state: AgentState) -> AgentState:\n",
    "    if \"hint\" not in state:\n",
    "        guess = random.randint(state['lower_bound'], state['upper_bound'])\n",
    "    elif state['hint'] == \"lower\":\n",
    "        state['last_higher'] = state['guesses'][-1] - 1\n",
    "        lower = state['last_lower'] or state['lower_bound']\n",
    "        guess = random.randint(lower, state['last_higher'])\n",
    "    elif state['hint'] == \"higher\":\n",
    "        state['last_lower'] = state['guesses'][-1] - 1\n",
    "        upper = state['last_higher'] or state['upper_bound']\n",
    "        guess = random.randint(state['last_lower'], upper)\n",
    "\n",
    "    state['guesses'].append(guess)\n",
    "    state['attempts'] += 1\n",
    "    return state\n",
    "\n",
    "def hint(state: AgentState) -> AgentState:\n",
    "    if state['guesses'][-1] > state['target_number']:\n",
    "        print(f\"{state['player_name']}, lower the attempts!\")\n",
    "        state['hint'] = \"lower\"\n",
    "    elif state['guesses'][-1] < state['target_number']:\n",
    "        print(f\"{state['player_name']}, higher the attempts!\")\n",
    "        state['hint'] = \"higher\"\n",
    "    else:\n",
    "        state['hint'] = \"success\"\n",
    "        print(f\"{state['player_name']}, You got it!\")\n",
    "    return state\n",
    "\n",
    "def decide_continue(state: AgentState) -> AgentState:\n",
    "    if state['attempts'] == 7 or state['guesses'][-1] == state['target_number']:\n",
    "        return \"exit\"\n",
    "    else:\n",
    "        return \"continue\""
   ],
   "id": "dce2e2edf461a9f6",
   "outputs": [],
   "execution_count": 82
  },
  {
   "metadata": {
    "ExecuteTime": {
     "end_time": "2025-05-31T16:21:50.620123Z",
     "start_time": "2025-05-31T16:21:50.610495Z"
    }
   },
   "cell_type": "code",
   "source": [
    "graph = StateGraph(AgentState)\n",
    "\n",
    "graph.add_node('setup_node', setup)\n",
    "graph.add_node('guess_node', guess)\n",
    "graph.add_node('hint_node', hint)\n",
    "\n",
    "graph.add_edge(START, \"setup_node\")\n",
    "graph.add_edge(\"setup_node\", \"guess_node\")\n",
    "graph.add_edge(\"guess_node\", \"hint_node\")\n",
    "\n",
    "graph.add_conditional_edges(\"hint_node\", decide_continue, {\n",
    "    \"exit\": END,\n",
    "    \"continue\": \"guess_node\",\n",
    "})\n",
    "\n",
    "app = graph.compile()"
   ],
   "id": "a18f76f9326e427",
   "outputs": [],
   "execution_count": 83
  },
  {
   "metadata": {
    "ExecuteTime": {
     "end_time": "2025-05-31T16:13:13.962616Z",
     "start_time": "2025-05-31T16:13:13.798132Z"
    }
   },
   "cell_type": "code",
   "source": [
    "from IPython.display import Image, display\n",
    "display(Image(app.get_graph().draw_mermaid_png()))"
   ],
   "id": "779eb06d65767f6d",
   "outputs": [
    {
     "data": {
      "image/png": "[encoded data removed]",
      "text/plain": [
       "<IPython.core.display.Image object>"
      ]
     },
     "metadata": {},
     "output_type": "display_data"
    }
   ],
   "execution_count": 75
  },
  {
   "metadata": {
    "ExecuteTime": {
     "end_time": "2025-05-31T16:21:53.614471Z",
     "start_time": "2025-05-31T16:21:53.509878Z"
    }
   },
   "cell_type": "code",
   "source": [
    "answer = app.invoke({\"player_name\": \"z\", \"guesses\": [], \"attempts\": 0, \"lower_bounder\":1, \"upper_bound\": 20, \"target_number\": 13})\n",
    "\n",
    "print(answer)"
   ],
   "id": "ddf4fe0ae5bd9510",
   "outputs": [
    {
     "name": "stdout",
     "output_type": "stream",
     "text": [
      "z, lower the attempts!\n"
     ]
    },
    {
     "ename": "KeyError",
     "evalue": "'last_lower'",
     "output_type": "error",
     "traceback": [
      "\u001B[31m---------------------------------------------------------------------------\u001B[39m",
      "\u001B[31mKeyError\u001B[39m                                  Traceback (most recent call last)",
      "\u001B[36mCell\u001B[39m\u001B[36m \u001B[39m\u001B[32mIn[84]\u001B[39m\u001B[32m, line 1\u001B[39m\n\u001B[32m----> \u001B[39m\u001B[32m1\u001B[39m answer = \u001B[43mapp\u001B[49m\u001B[43m.\u001B[49m\u001B[43minvoke\u001B[49m\u001B[43m(\u001B[49m\u001B[43m{\u001B[49m\u001B[33;43m\"\u001B[39;49m\u001B[33;43mplayer_name\u001B[39;49m\u001B[33;43m\"\u001B[39;49m\u001B[43m:\u001B[49m\u001B[43m \u001B[49m\u001B[33;43m\"\u001B[39;49m\u001B[33;43mz\u001B[39;49m\u001B[33;43m\"\u001B[39;49m\u001B[43m,\u001B[49m\u001B[43m \u001B[49m\u001B[33;43m\"\u001B[39;49m\u001B[33;43mguesses\u001B[39;49m\u001B[33;43m\"\u001B[39;49m\u001B[43m:\u001B[49m\u001B[43m \u001B[49m\u001B[43m[\u001B[49m\u001B[43m]\u001B[49m\u001B[43m,\u001B[49m\u001B[43m \u001B[49m\u001B[33;43m\"\u001B[39;49m\u001B[33;43mattempts\u001B[39;49m\u001B[33;43m\"\u001B[39;49m\u001B[43m:\u001B[49m\u001B[43m \u001B[49m\u001B[32;43m0\u001B[39;49m\u001B[43m,\u001B[49m\u001B[43m \u001B[49m\u001B[33;43m\"\u001B[39;49m\u001B[33;43mlower_bounder\u001B[39;49m\u001B[33;43m\"\u001B[39;49m\u001B[43m:\u001B[49m\u001B[32;43m1\u001B[39;49m\u001B[43m,\u001B[49m\u001B[43m \u001B[49m\u001B[33;43m\"\u001B[39;49m\u001B[33;43mupper_bound\u001B[39;49m\u001B[33;43m\"\u001B[39;49m\u001B[43m:\u001B[49m\u001B[43m \u001B[49m\u001B[32;43m20\u001B[39;49m\u001B[43m,\u001B[49m\u001B[43m \u001B[49m\u001B[33;43m\"\u001B[39;49m\u001B[33;43mtarget_number\u001B[39;49m\u001B[33;43m\"\u001B[39;49m\u001B[43m:\u001B[49m\u001B[43m \u001B[49m\u001B[32;43m13\u001B[39;49m\u001B[43m}\u001B[49m\u001B[43m)\u001B[49m\n\u001B[32m      3\u001B[39m \u001B[38;5;28mprint\u001B[39m(answer)\n",
      "\u001B[36mFile \u001B[39m\u001B[32m~/Workspace/miniconda3/envs/python312/lib/python3.12/site-packages/langgraph/pregel/__init__.py:2719\u001B[39m, in \u001B[36mPregel.invoke\u001B[39m\u001B[34m(self, input, config, stream_mode, output_keys, interrupt_before, interrupt_after, checkpoint_during, debug, **kwargs)\u001B[39m\n\u001B[32m   2716\u001B[39m chunks: \u001B[38;5;28mlist\u001B[39m[Union[\u001B[38;5;28mdict\u001B[39m[\u001B[38;5;28mstr\u001B[39m, Any], Any]] = []\n\u001B[32m   2717\u001B[39m interrupts: \u001B[38;5;28mlist\u001B[39m[Interrupt] = []\n\u001B[32m-> \u001B[39m\u001B[32m2719\u001B[39m \u001B[43m\u001B[49m\u001B[38;5;28;43;01mfor\u001B[39;49;00m\u001B[43m \u001B[49m\u001B[43mchunk\u001B[49m\u001B[43m \u001B[49m\u001B[38;5;129;43;01min\u001B[39;49;00m\u001B[43m \u001B[49m\u001B[38;5;28;43mself\u001B[39;49m\u001B[43m.\u001B[49m\u001B[43mstream\u001B[49m\u001B[43m(\u001B[49m\n\u001B[32m   2720\u001B[39m \u001B[43m    \u001B[49m\u001B[38;5;28;43minput\u001B[39;49m\u001B[43m,\u001B[49m\n\u001B[32m   2721\u001B[39m \u001B[43m    \u001B[49m\u001B[43mconfig\u001B[49m\u001B[43m,\u001B[49m\n\u001B[32m   2722\u001B[39m \u001B[43m    \u001B[49m\u001B[43mstream_mode\u001B[49m\u001B[43m=\u001B[49m\u001B[43mstream_mode\u001B[49m\u001B[43m,\u001B[49m\n\u001B[32m   2723\u001B[39m \u001B[43m    \u001B[49m\u001B[43moutput_keys\u001B[49m\u001B[43m=\u001B[49m\u001B[43moutput_keys\u001B[49m\u001B[43m,\u001B[49m\n\u001B[32m   2724\u001B[39m \u001B[43m    \u001B[49m\u001B[43minterrupt_before\u001B[49m\u001B[43m=\u001B[49m\u001B[43minterrupt_before\u001B[49m\u001B[43m,\u001B[49m\n\u001B[32m   2725\u001B[39m \u001B[43m    \u001B[49m\u001B[43minterrupt_after\u001B[49m\u001B[43m=\u001B[49m\u001B[43minterrupt_after\u001B[49m\u001B[43m,\u001B[49m\n\u001B[32m   2726\u001B[39m \u001B[43m    \u001B[49m\u001B[43mcheckpoint_during\u001B[49m\u001B[43m=\u001B[49m\u001B[43mcheckpoint_during\u001B[49m\u001B[43m,\u001B[49m\n\u001B[32m   2727\u001B[39m \u001B[43m    \u001B[49m\u001B[43mdebug\u001B[49m\u001B[43m=\u001B[49m\u001B[43mdebug\u001B[49m\u001B[43m,\u001B[49m\n\u001B[32m   2728\u001B[39m \u001B[43m    \u001B[49m\u001B[43m*\u001B[49m\u001B[43m*\u001B[49m\u001B[43mkwargs\u001B[49m\u001B[43m,\u001B[49m\n\u001B[32m   2729\u001B[39m \u001B[43m\u001B[49m\u001B[43m)\u001B[49m\u001B[43m:\u001B[49m\n\u001B[32m   2730\u001B[39m \u001B[43m    \u001B[49m\u001B[38;5;28;43;01mif\u001B[39;49;00m\u001B[43m \u001B[49m\u001B[43mstream_mode\u001B[49m\u001B[43m \u001B[49m\u001B[43m==\u001B[49m\u001B[43m \u001B[49m\u001B[33;43m\"\u001B[39;49m\u001B[33;43mvalues\u001B[39;49m\u001B[33;43m\"\u001B[39;49m\u001B[43m:\u001B[49m\n\u001B[32m   2731\u001B[39m \u001B[43m        \u001B[49m\u001B[38;5;28;43;01mif\u001B[39;49;00m\u001B[43m \u001B[49m\u001B[43m(\u001B[49m\n\u001B[32m   2732\u001B[39m \u001B[43m            \u001B[49m\u001B[38;5;28;43misinstance\u001B[39;49m\u001B[43m(\u001B[49m\u001B[43mchunk\u001B[49m\u001B[43m,\u001B[49m\u001B[43m \u001B[49m\u001B[38;5;28;43mdict\u001B[39;49m\u001B[43m)\u001B[49m\n\u001B[32m   2733\u001B[39m \u001B[43m            \u001B[49m\u001B[38;5;129;43;01mand\u001B[39;49;00m\u001B[43m \u001B[49m\u001B[43m(\u001B[49m\u001B[43mints\u001B[49m\u001B[43m \u001B[49m\u001B[43m:=\u001B[49m\u001B[43m \u001B[49m\u001B[43mchunk\u001B[49m\u001B[43m.\u001B[49m\u001B[43mget\u001B[49m\u001B[43m(\u001B[49m\u001B[43mINTERRUPT\u001B[49m\u001B[43m)\u001B[49m\u001B[43m)\u001B[49m\u001B[43m \u001B[49m\u001B[38;5;129;43;01mis\u001B[39;49;00m\u001B[43m \u001B[49m\u001B[38;5;129;43;01mnot\u001B[39;49;00m\u001B[43m \u001B[49m\u001B[38;5;28;43;01mNone\u001B[39;49;00m\n\u001B[32m   2734\u001B[39m \u001B[43m        \u001B[49m\u001B[43m)\u001B[49m\u001B[43m:\u001B[49m\n",
      "\u001B[36mFile \u001B[39m\u001B[32m~/Workspace/miniconda3/envs/python312/lib/python3.12/site-packages/langgraph/pregel/__init__.py:2436\u001B[39m, in \u001B[36mPregel.stream\u001B[39m\u001B[34m(self, input, config, stream_mode, output_keys, interrupt_before, interrupt_after, checkpoint_during, debug, subgraphs)\u001B[39m\n\u001B[32m   2434\u001B[39m         \u001B[38;5;28;01mfor\u001B[39;00m task \u001B[38;5;129;01min\u001B[39;00m loop.match_cached_writes():\n\u001B[32m   2435\u001B[39m             loop.output_writes(task.id, task.writes, cached=\u001B[38;5;28;01mTrue\u001B[39;00m)\n\u001B[32m-> \u001B[39m\u001B[32m2436\u001B[39m \u001B[43m        \u001B[49m\u001B[38;5;28;43;01mfor\u001B[39;49;00m\u001B[43m \u001B[49m\u001B[43m_\u001B[49m\u001B[43m \u001B[49m\u001B[38;5;129;43;01min\u001B[39;49;00m\u001B[43m \u001B[49m\u001B[43mrunner\u001B[49m\u001B[43m.\u001B[49m\u001B[43mtick\u001B[49m\u001B[43m(\u001B[49m\n\u001B[32m   2437\u001B[39m \u001B[43m            \u001B[49m\u001B[43m[\u001B[49m\u001B[43mt\u001B[49m\u001B[43m \u001B[49m\u001B[38;5;28;43;01mfor\u001B[39;49;00m\u001B[43m \u001B[49m\u001B[43mt\u001B[49m\u001B[43m \u001B[49m\u001B[38;5;129;43;01min\u001B[39;49;00m\u001B[43m \u001B[49m\u001B[43mloop\u001B[49m\u001B[43m.\u001B[49m\u001B[43mtasks\u001B[49m\u001B[43m.\u001B[49m\u001B[43mvalues\u001B[49m\u001B[43m(\u001B[49m\u001B[43m)\u001B[49m\u001B[43m \u001B[49m\u001B[38;5;28;43;01mif\u001B[39;49;00m\u001B[43m \u001B[49m\u001B[38;5;129;43;01mnot\u001B[39;49;00m\u001B[43m \u001B[49m\u001B[43mt\u001B[49m\u001B[43m.\u001B[49m\u001B[43mwrites\u001B[49m\u001B[43m]\u001B[49m\u001B[43m,\u001B[49m\n\u001B[32m   2438\u001B[39m \u001B[43m            \u001B[49m\u001B[43mtimeout\u001B[49m\u001B[43m=\u001B[49m\u001B[38;5;28;43mself\u001B[39;49m\u001B[43m.\u001B[49m\u001B[43mstep_timeout\u001B[49m\u001B[43m,\u001B[49m\n\u001B[32m   2439\u001B[39m \u001B[43m            \u001B[49m\u001B[43mget_waiter\u001B[49m\u001B[43m=\u001B[49m\u001B[43mget_waiter\u001B[49m\u001B[43m,\u001B[49m\n\u001B[32m   2440\u001B[39m \u001B[43m            \u001B[49m\u001B[43mschedule_task\u001B[49m\u001B[43m=\u001B[49m\u001B[43mloop\u001B[49m\u001B[43m.\u001B[49m\u001B[43maccept_push\u001B[49m\u001B[43m,\u001B[49m\n\u001B[32m   2441\u001B[39m \u001B[43m        \u001B[49m\u001B[43m)\u001B[49m\u001B[43m:\u001B[49m\n\u001B[32m   2442\u001B[39m \u001B[43m            \u001B[49m\u001B[38;5;66;43;03m# emit output\u001B[39;49;00m\n\u001B[32m   2443\u001B[39m \u001B[43m            \u001B[49m\u001B[38;5;28;43;01myield from\u001B[39;49;00m\u001B[43m \u001B[49m\u001B[43moutput\u001B[49m\u001B[43m(\u001B[49m\u001B[43m)\u001B[49m\n\u001B[32m   2444\u001B[39m \u001B[38;5;66;03m# emit output\u001B[39;00m\n",
      "\u001B[36mCell\u001B[39m\u001B[36m \u001B[39m\u001B[32mIn[82]\u001B[39m\u001B[32m, line 26\u001B[39m, in \u001B[36mguess\u001B[39m\u001B[34m(state)\u001B[39m\n\u001B[32m     24\u001B[39m \u001B[38;5;28;01melif\u001B[39;00m state[\u001B[33m'\u001B[39m\u001B[33mhint\u001B[39m\u001B[33m'\u001B[39m] == \u001B[33m\"\u001B[39m\u001B[33mlower\u001B[39m\u001B[33m\"\u001B[39m:\n\u001B[32m     25\u001B[39m     state[\u001B[33m'\u001B[39m\u001B[33mlast_higher\u001B[39m\u001B[33m'\u001B[39m] = state[\u001B[33m'\u001B[39m\u001B[33mguesses\u001B[39m\u001B[33m'\u001B[39m][-\u001B[32m1\u001B[39m] - \u001B[32m1\u001B[39m\n\u001B[32m---> \u001B[39m\u001B[32m26\u001B[39m     lower = \u001B[43mstate\u001B[49m\u001B[43m[\u001B[49m\u001B[33;43m'\u001B[39;49m\u001B[33;43mlast_lower\u001B[39;49m\u001B[33;43m'\u001B[39;49m\u001B[43m]\u001B[49m \u001B[38;5;129;01mor\u001B[39;00m state[\u001B[33m'\u001B[39m\u001B[33mlower_bound\u001B[39m\u001B[33m'\u001B[39m]\n\u001B[32m     27\u001B[39m     guess = random.randint(lower, state[\u001B[33m'\u001B[39m\u001B[33mlast_higher\u001B[39m\u001B[33m'\u001B[39m])\n\u001B[32m     28\u001B[39m \u001B[38;5;28;01melif\u001B[39;00m state[\u001B[33m'\u001B[39m\u001B[33mhint\u001B[39m\u001B[33m'\u001B[39m] == \u001B[33m\"\u001B[39m\u001B[33mhigher\u001B[39m\u001B[33m\"\u001B[39m:\n",
      "\u001B[31mKeyError\u001B[39m: 'last_lower'",
      "During task with name 'guess_node' and id '09d443bd-0e9e-9314-d91a-e037164ac5d1'"
     ]
    }
   ],
   "execution_count": 84
  }
 ],
 "metadata": {
  "kernelspec": {
   "display_name": "Python 3",
   "language": "python",
   "name": "python3"
  },
  "language_info": {
   "codemirror_mode": {
    "name": "ipython",
    "version": 2
   },
   "file_extension": ".py",
   "mimetype": "text/x-python",
   "name": "python",
   "nbconvert_exporter": "python",
   "pygments_lexer": "ipython2",
   "version": "2.7.6"
  }
 },
 "nbformat": 4,
 "nbformat_minor": 5
}
