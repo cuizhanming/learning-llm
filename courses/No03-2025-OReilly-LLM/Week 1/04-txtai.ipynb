{
 "cells": [
  {
   "cell_type": "markdown",
   "id": "b64ece1d-7558-4fb6-a98b-ad06283bb898",
   "metadata": {},
   "source": [
    "# Load data (from previous notebook)"
   ]
  },
  {
   "cell_type": "code",
   "execution_count": null,
   "id": "1c08c809-10c6-42aa-9a01-0477ca426b2f",
   "metadata": {},
   "outputs": [],
   "source": [
    "sentences = open(\"sentences.txt\").read().split(\"@@@\")"
   ]
  },
  {
   "cell_type": "code",
   "execution_count": null,
   "id": "73220da2-6d8f-42db-95ac-f361449388b5",
   "metadata": {},
   "outputs": [],
   "source": [
    "len(sentences)"
   ]
  },
  {
   "cell_type": "code",
   "execution_count": null,
   "id": "a93b4b1c-1f51-4f4a-a647-26fc18896686",
   "metadata": {},
   "outputs": [],
   "source": [
    "# currently does not work without staticvectors\n",
    "!pip install txtai staticvectors"
   ]
  },
  {
   "cell_type": "code",
   "execution_count": null,
   "id": "6d8efc80-1587-4c9c-95d5-fbd6a8294df7",
   "metadata": {},
   "outputs": [],
   "source": [
    "from txtai.embeddings import Embeddings\n",
    "\n",
    "embeddings = Embeddings({\"path\": \"sentence-transformers/multi-qa-MiniLM-L6-cos-v1\", \"content\": True})"
   ]
  },
  {
   "cell_type": "code",
   "execution_count": null,
   "id": "7c235e3c-966b-4ce3-a7aa-d73a5d689a8f",
   "metadata": {},
   "outputs": [],
   "source": [
    "embeddings.index(sentences)"
   ]
  },
  {
   "cell_type": "code",
   "execution_count": null,
   "id": "61899586-dbc3-4efc-845a-ead8bd108edd",
   "metadata": {},
   "outputs": [],
   "source": [
    "query = \"The climate crisis is worse for poorer countries\"\n",
    "res = embeddings.search(query, 100)\n",
    "res[0:10]"
   ]
  },
  {
   "cell_type": "code",
   "execution_count": null,
   "id": "3325e185-d3b9-4030-b639-4c5e6e3d1dbc",
   "metadata": {},
   "outputs": [],
   "source": [
    "import pandas as pd\n",
    "pd.set_option('display.max_colwidth', 0)\n",
    "df = pd.DataFrame(res)\n",
    "df"
   ]
  },
  {
   "cell_type": "markdown",
   "id": "e2455211-b6a6-4497-8a0c-e6b46d340f8f",
   "metadata": {},
   "source": [
    "**Identical** results to our first notebook!"
   ]
  },
  {
   "cell_type": "code",
   "execution_count": null,
   "id": "e625a2b4-75bc-4529-9e70-6f9e6e6f6bbd",
   "metadata": {},
   "outputs": [],
   "source": [
    "from txtai.pipeline import Similarity\n",
    "#similarity = Similarity('mixedbread-ai/mxbai-rerank-large-v1')\n",
    "similarity = Similarity('valhalla/distilbart-mnli-12-3')"
   ]
  },
  {
   "cell_type": "code",
   "execution_count": null,
   "id": "ea284ff2-34f6-48d8-b4f0-ccb17495d8d8",
   "metadata": {},
   "outputs": [],
   "source": [
    "pd.DataFrame([(res[x][\"id\"], res[x][\"text\"], res[x][\"score\"], score) \n",
    " for x, score in similarity(query, [t[\"text\"] for t in res])], \n",
    "            columns=[\"id\", \"text\", \"bi-score\", \"cross-score\"])"
   ]
  }
 ],
 "metadata": {
  "kernelspec": {
   "display_name": "Python 3 (ipykernel)",
   "language": "python",
   "name": "python3"
  },
  "language_info": {
   "codemirror_mode": {
    "name": "ipython",
    "version": 3
   },
   "file_extension": ".py",
   "mimetype": "text/x-python",
   "name": "python",
   "nbconvert_exporter": "python",
   "pygments_lexer": "ipython3",
   "version": "3.12.3"
  }
 },
 "nbformat": 4,
 "nbformat_minor": 5
}
