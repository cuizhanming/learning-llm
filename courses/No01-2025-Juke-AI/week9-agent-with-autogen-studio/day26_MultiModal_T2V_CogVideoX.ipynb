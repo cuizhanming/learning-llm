{
 "nbformat": 4,
 "nbformat_minor": 0,
 "metadata": {
  "colab": {
   "provenance": [],
   "gpuType": "T4"
  },
  "kernelspec": {
   "name": "python3",
   "display_name": "Python 3"
  },
  "language_info": {
   "name": "python"
  },
  "accelerator": "GPU"
 },
 "cells": [
  {
   "cell_type": "markdown",
   "source": [
    "## CogVideoX Text-to-Video\n",
    "\n",
    "This notebook demonstrates how to run [CogVideoX-2b](https://huggingface.co/THUDM/CogVideoX-2b) and [CogVideoX-5b](https://huggingface.co/THUDM/CogVideoX-5b) with 🧨 Diffusers on a free-tier Colab GPU.\n",
    "\n",
    "Additional resources:\n",
    "- [Docs](https://huggingface.co/docs/diffusers/en/api/pipelines/cogvideox)\n",
    "- [Quantization with TorchAO](https://github.com/sayakpaul/diffusers-torchao/)\n",
    "- [Quantization with Quanto](https://gist.github.com/a-r-r-o-w/31be62828b00a9292821b85c1017effa)\n",
    "\n",
    "Note: If, for whatever reason, you randomly get an OOM error, give it a try on Kaggle T4 instances instead. I've found that Colab free-tier T4 can be unreliable at times. Sometimes, the notebook will run smoothly, but other times it will crash with an error 🤷🏻‍♂️"
   ],
   "metadata": {
    "id": "odDJ7szVQcF5"
   }
  },
  {
   "cell_type": "markdown",
   "source": [
    "#### Install the necessary requirements"
   ],
   "metadata": {
    "id": "_xYQ2a5TQ0v0"
   }
  },
  {
   "cell_type": "code",
   "source": [
    "!pip install diffusers transformers hf_transfer"
   ],
   "metadata": {
    "id": "SkfM_HgWzYLv"
   },
   "outputs": [],
   "execution_count": null
  },
  {
   "cell_type": "code",
   "source": [
    "# !pip install git+https://github.com/huggingface/accelerate\n",
    "!pip install accelerate==0.33.0"
   ],
   "metadata": {
    "id": "EYhb5Ifc_DsD"
   },
   "outputs": [],
   "execution_count": null
  },
  {
   "cell_type": "markdown",
   "source": [
    "#### Import required libraries"
   ],
   "metadata": {
    "id": "SakY29grSgg9"
   }
  },
  {
   "cell_type": "markdown",
   "source": [
    "The following block is optional but if enabled, downloading models from the HF Hub will be much faster"
   ],
   "metadata": {
    "id": "-iKShydqSoNp"
   }
  },
  {
   "cell_type": "code",
   "source": [
    "import os\n",
    "os.environ[\"HF_HUB_ENABLE_HF_TRANSFER\"] = \"1\""
   ],
   "metadata": {
    "id": "NB-U_tcpze3g"
   },
   "outputs": [],
   "execution_count": null
  },
  {
   "cell_type": "code",
   "metadata": {
    "id": "z5M6IxJ_y_0m"
   },
   "source": [
    "import torch\n",
    "from diffusers import AutoencoderKLCogVideoX, CogVideoXPipeline, CogVideoXTransformer3DModel\n",
    "from diffusers.utils import export_to_video\n",
    "from transformers import T5EncoderModel"
   ],
   "outputs": [],
   "execution_count": null
  },
  {
   "cell_type": "markdown",
   "source": [
    "#### Load models and create pipeline\n",
    "\n",
    "Note: `bfloat16`, which is the recommended dtype for running \"CogVideoX-5b\" will cause OOM errors due to lack of efficient support on Turing GPUs.\n",
    "\n",
    "Therefore, we must use `float16`, which might result in poorer generation quality. The recommended solution is to use Ampere or above GPUs, which also support efficient quantization kernels from [TorchAO](https://github.com/pytorch/ao) :("
   ],
   "metadata": {
    "id": "OEtGPcCKSyC5"
   }
  },
  {
   "cell_type": "code",
   "source": [
    "# Models: \"THUDM/CogVideoX-2b\" or \"THUDM/CogVideoX-5b\"\n",
    "model_id = \"THUDM/CogVideoX-5b\""
   ],
   "metadata": {
    "id": "wJ3VWEhOztPn"
   },
   "outputs": [],
   "execution_count": null
  },
  {
   "cell_type": "code",
   "source": [
    "# Thank you [@camenduru](https://github.com/camenduru)!\n",
    "# The reason for using checkpoints hosted by Camenduru instead of the original is because they exported\n",
    "# with a max_shard_size of \"5GB\" when saving the model with `.save_pretrained`. The original converted\n",
    "# model was saved with \"10GB\" as the max shard size, which causes the Colab CPU RAM to be insufficient\n",
    "# leading to OOM (on the CPU)\n",
    "\n",
    "transformer = CogVideoXTransformer3DModel.from_pretrained(\"camenduru/cogvideox-5b-float16\", subfolder=\"transformer\", torch_dtype=torch.float16)\n",
    "text_encoder = T5EncoderModel.from_pretrained(\"camenduru/cogvideox-5b-float16\", subfolder=\"text_encoder\", torch_dtype=torch.float16)\n",
    "vae = AutoencoderKLCogVideoX.from_pretrained(model_id, subfolder=\"vae\", torch_dtype=torch.float16)"
   ],
   "metadata": {
    "id": "IzomEvqe2bA-"
   },
   "outputs": [],
   "execution_count": null
  },
  {
   "cell_type": "code",
   "source": [
    "# Create pipeline and run inference\n",
    "pipe = CogVideoXPipeline.from_pretrained(\n",
    "    model_id,\n",
    "    text_encoder=text_encoder,\n",
    "    transformer=transformer,\n",
    "    vae=vae,\n",
    "    torch_dtype=torch.float16,\n",
    ")"
   ],
   "metadata": {
    "id": "VPKgiLhF3K-J"
   },
   "outputs": [],
   "execution_count": null
  },
  {
   "cell_type": "markdown",
   "source": [
    "#### Enable memory optimizations\n",
    "\n",
    "Note that sequential cpu offloading is necessary for being able to run the model on Turing or lower architectures. It aggressively maintains everything on the CPU and only moves the currently executing nn.Module to the GPU. This saves a lot of VRAM but adds a lot of overhead for inference, making generations extremely slow (1 hour+). Unfortunately, this is the only solution for running the model on Colab until efficient kernels are supported."
   ],
   "metadata": {
    "id": "DRS_ML_YTlVo"
   }
  },
  {
   "cell_type": "code",
   "source": [
    "pipe.enable_sequential_cpu_offload()\n",
    "# pipe.vae.enable_tiling()"
   ],
   "metadata": {
    "id": "eReN55YZ0ZKs"
   },
   "outputs": [],
   "execution_count": null
  },
  {
   "cell_type": "markdown",
   "source": [
    "#### Generate!"
   ],
   "metadata": {
    "id": "0WXIf5lIUszn"
   }
  },
  {
   "cell_type": "code",
   "source": [
    "prompt = (\n",
    "    \"A panda, dressed in a small, red jacket and a tiny hat, sits on a wooden stool in a serene bamboo forest. \"\n",
    "    \"The panda's fluffy paws strum a miniature acoustic guitar, producing soft, melodic tunes. Nearby, a few other \"\n",
    "    \"pandas gather, watching curiously and some clapping in rhythm. Sunlight filters through the tall bamboo, \"\n",
    "    \"casting a gentle glow on the scene. The panda's face is expressive, showing concentration and joy as it plays. \"\n",
    "    \"The background includes a small, flowing stream and vibrant green foliage, enhancing the peaceful and magical \"\n",
    "    \"atmosphere of this unique musical performance.\"\n",
    ")"
   ],
   "metadata": {
    "id": "ONXqiegkzw6I"
   },
   "outputs": [],
   "execution_count": null
  },
  {
   "cell_type": "code",
   "source": [
    "video = pipe(prompt=prompt, guidance_scale=6, use_dynamic_cfg=True, num_inference_steps=50).frames[0]"
   ],
   "metadata": {
    "id": "3bBSgGvkz6y4"
   },
   "outputs": [],
   "execution_count": null
  },
  {
   "cell_type": "code",
   "source": [
    "export_to_video(video, \"output.mp4\", fps=8)"
   ],
   "metadata": {
    "id": "XHYjdu1w6amd"
   },
   "outputs": [],
   "execution_count": null
  }
 ]
}
