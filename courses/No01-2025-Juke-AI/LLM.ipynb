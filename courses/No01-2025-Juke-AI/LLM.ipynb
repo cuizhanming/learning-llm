{
 "cells": [
  {
   "metadata": {},
   "cell_type": "markdown",
   "source": [
    "# 目标：2025年进入AI风口赛道\n",
    "\n",
    "## 强化能力\n",
    "\n",
    "- Presentation：relying on more readings, more stories.\n",
    "- Coding Skill：relying on more practiced, memorizing knowledge, leveraging AI assistant.\n",
    "\n",
    "## Actions\n",
    "\n",
    "- 课前: 预习上期视频，解决生疏概念，提出项目应用的相关问题\n",
    "- 听课: 带着问题听\n",
    "- 课后: 强化练习操作，将知识做实现\n",
    "\n",
    "## 课程安排：录播自学内容\n",
    "1. [Python基础](https://cuizhanming.com/python%E8%AF%AD%E6%B3%95%E5%85%A5%E9%97%A8%E6%95%99%E7%A8%8B/)\n",
    "2. AI/ML基础\n",
    "3. OpenAI应用\n",
    "\n",
    "## 课程安排：直播课程内容"
   ],
   "id": "77b3d88f220a28b3"
  },
  {
   "metadata": {},
   "cell_type": "markdown",
   "source": [
    "## Week1: Workstation Setup, RAG, Embedding, Vector.\n",
    "\n",
    "### RAG (Retrieval Augmented Generation) System\n",
    "\n",
    "1. **Retrieval**：检索什么？检索Pre-trained大模型没有的信息\n",
    "What, When, Where, Who, How?\n",
    "企业内部数据，在确定使用的大模型之后，向量数据库，AI Engineers，文档切割-大模型嵌入向量化-存储到向量数据库\n",
    "\n",
    "2. **Augmented**：增强什么？增强用户原始的输入\n",
    "What, When, Where, Who, How?\n",
    "相关向量数据，用户调用大模型，向量数据库，AI System，用户输入向量化+检索向量数据+匹配度优先级\n",
    "\n",
    "3. **Generation**：生成什么？生成用没有训练过的数据增强后的模型输出\n",
    "What, When, Where, Who, How?\n",
    "增强后的用户输入Prompt，AI System调用大模型接口，得到输出\n",
    "\n",
    "### LLM (Large Language Models)\n",
    "- Chat Models\n",
    "- Chunking Documents Models\n",
    "    - [Howto chunk documents strategy?](https://www.mongodb.com/developer/products/atlas/choosing-chunking-strategy-rag/)\n",
    "    - [LangChain Splitters](https://python.langchain.com/v0.1/docs/modules/data_connection/document_transformers/#types-of-text-splitters)\n",
    "    - [LlamaIndex Parsers](https://docs.llamaindex.ai/en/stable/api_reference/node_parsers/)\n",
    "- Transform Documents Models\n",
    "- Embedding Models\n",
    "    - [Howto choose the right model?](https://www.mongodb.com/developer/products/atlas/choose-embedding-model-rag/)\n",
    "    - OpenAI Embedding Models:\n",
    "        - text-embedding-3-large\n",
    "        - text-embedding-3-small\n",
    "- ReRanking Models & API\n",
    "    - Hugging Face Rerank (BAAI/bge-reranker-large, cross-encoder/ms-marco-MiniLM-L-6-v2)\n",
    "    - [Cohere Rerank](https://cohere.com/rerank)：支持多语言\n",
    "    - [Jina Rerank](https://jina.ai/reranker/)：目前只支持英文\n",
    "    - 混合检索重排序 (Hybrid Retrieval ReRanking)\n",
    "\n",
    "### Vector Database\n",
    "- [Chroma](https://www.trychroma.com/)\n",
    "- [Milvus](https://milvus.io/)\n",
    "- [Qdrant](https://qdrant.com/)\n",
    "\n",
    "### Frameworks\n",
    "- [RAGFlow](https://github.com/infiniflow/ragflow): 一款基于深度文档理解构建的开源 RAG 引擎，支持多种文档格式\n",
    "- RAG项目优先框架：LlamaIndex，LangChain，Ragflow\n",
    "- [GraphRAG](https://github.com/microsoft/graphrag)\n",
    "    - 知识图谱：医疗、金融、国家级能源机构，海量数据\n",
    "\n",
    "### LangChain\n",
    "\n",
    "- [LangChain](https://langchain.com/)\n",
    "    - LCEL (LangChain Expression Language)\n",
    "- [LangGraph](https://langgraph.com/)\n",
    "- [LangSmith](https://langsmith.com/)\n",
    "- [LangServe](https://python.langchain.com/docs/langserve/)\n",
    "\n",
    ">[!WARNING] We recommend using `LangGraph Platform` rather than `LangServe` for new projects.\n",
    "LangServe is designed to primarily deploy simple Runnables and work with well-known primitives in langchain-core.\n",
    "If you need a deployment option for LangGraph, you should instead be looking at LangGraph Cloud (beta) which will be better suited for deploying LangGraph applications.\n",
    "\n",
    "LangServe helps developers deploy LangChain runnables and chains as a REST API.\n",
    "This library is integrated with `FastAPI` and uses `pydantic` for data validation.\n",
    "In addition, it provides a client that can be used to call into runnables deployed on a server."
   ],
   "id": "1328dd5a13bd8d67"
  },
  {
   "metadata": {},
   "cell_type": "markdown",
   "source": "## Week2: HuggingFace BERT models",
   "id": "d5bd5de4fccb32ee"
  },
  {
   "metadata": {},
   "cell_type": "markdown",
   "source": "## Week3: HuggingFace GPT Models",
   "id": "dcf4837c25ec3b"
  },
  {
   "metadata": {},
   "cell_type": "markdown",
   "source": "## Week4: GPU + Llama3 + OLlama",
   "id": "1bae262cba9c6573"
  },
  {
   "metadata": {},
   "cell_type": "markdown",
   "source": "## Week5: LoRA",
   "id": "72e1ca2c3fe82f99"
  }
 ],
 "metadata": {
  "kernelspec": {
   "display_name": "Python 3 (ipykernel)",
   "language": "python",
   "name": "python3"
  },
  "language_info": {
   "codemirror_mode": {
    "name": "ipython",
    "version": 3
   },
   "file_extension": ".py",
   "mimetype": "text/x-python",
   "name": "python",
   "nbconvert_exporter": "python",
   "pygments_lexer": "ipython3",
   "version": "3.10.16"
  }
 },
 "nbformat": 4,
 "nbformat_minor": 5
}
