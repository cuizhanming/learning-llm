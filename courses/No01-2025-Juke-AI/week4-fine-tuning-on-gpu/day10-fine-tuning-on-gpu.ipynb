{
 "cells": [
  {
   "metadata": {},
   "cell_type": "markdown",
   "source": [
    "## 1. [ModelScope](https://modelscope.cn/)\n",
    "\n",
    "- All Chinese Platform has no access to HuggingFace directly.\n",
    "- Alternatively, using mirror of `hf-mirror.com`, by `export HF_ENDPOINT=https://hf-mirror.com` in terminal.\n",
    "- Install `hfd` which requires `aria2` on Linux.\n",
    "```bash\n",
    "wget https://hf-mirror.com/hfd/hfd.sh\n",
    "chmod a+x hfd.sh\n",
    "\n",
    "sudo apt-get install software-properties-common\n",
    "sudo add-apt-repository ppa:savoury1/backports\n",
    "sudo apt update\n",
    "sudo apt install aria2\n",
    "```\n",
    "- Then, download open-source pre-trained models with the tool.\n",
    "```bash\n",
    "# download models\n",
    "./hfd.sh uer/gpt2-chinese-cluecorpussmall\n",
    "# download dataset\n",
    "./hfd.sh wikitext --dataset\n",
    "```"
   ],
   "id": "950b011e2b6f8c7a"
  },
  {
   "metadata": {},
   "cell_type": "markdown",
   "source": "## 2. AUTODL.com",
   "id": "9ff0e5109ad66547"
  },
  {
   "metadata": {},
   "cell_type": "markdown",
   "source": "",
   "id": "eec50b04fb7f6d0f"
  }
 ],
 "metadata": {
  "kernelspec": {
   "display_name": "Python 3",
   "language": "python",
   "name": "python3"
  },
  "language_info": {
   "codemirror_mode": {
    "name": "ipython",
    "version": 2
   },
   "file_extension": ".py",
   "mimetype": "text/x-python",
   "name": "python",
   "nbconvert_exporter": "python",
   "pygments_lexer": "ipython2",
   "version": "2.7.6"
  }
 },
 "nbformat": 4,
 "nbformat_minor": 5
}
