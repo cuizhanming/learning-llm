{
 "cells": [
  {
   "metadata": {},
   "cell_type": "markdown",
   "source": "## Download model from [ModelScope](https://modelscope.cn/)\n",
   "id": "58bf577cbf62d73c"
  },
  {
   "metadata": {},
   "cell_type": "code",
   "outputs": [],
   "execution_count": null,
   "source": [
    "# !pip install modelscope\n",
    "from modelscope import snapshot_download\n",
    "\n",
    "# Try Meta Llama 3.2 1B Instruct\n",
    "snapshot_download('LLM-Research/Llama-3.2-1B-Instruct', cache_dir='/mnt/workspace/code/models')\n",
    "\n",
    "# Try Alibaba Qwen\n",
    "snapshot_download(\"qwen/Qwen2.5-0.5B-Instruct\", cache_dir='/mnt/workspace/code/models')\n",
    "\n",
    "# Try DeepSeek V3\n",
    "# snapshot_download('deepseek-ai/DeepSeek-V3', cache_dir='/mnt/workspace/code/models')\n"
   ],
   "id": "767d135736298625"
  },
  {
   "metadata": {},
   "cell_type": "markdown",
   "source": "## Invoking the model",
   "id": "3361fd078f21ead8"
  },
  {
   "metadata": {},
   "cell_type": "code",
   "outputs": [],
   "execution_count": null,
   "source": [
    "# !pip install transformers\n",
    "from transformers import AutoTokenizer,AutoModelForCausalLM\n",
    "import torch\n",
    "\n",
    "# model_dir = '/mnt/workspace/code/models/LLM-Research/Llama-3___2-1B-Instruct'\n",
    "model_dir = '/mnt/workspace/code/models/qwen/Qwen2___5-0___5B-Instruct'\n",
    "model = AutoModelForCausalLM.from_pretrained(model_dir, torch_dtype=\"auto\", device_map=\"auto\")\n",
    "tokenizer = AutoTokenizer.from_pretrained(model_dir)\n",
    "\n",
    "prompt = \"Hello, Please introduce yourself with your producer and model details.\"\n",
    "\n",
    "message = [\n",
    "    {\n",
    "        \"role\": \"system\",\n",
    "        \"content\": \"You are a helpful assistant. You are here to help me with my queries.\"\n",
    "    },\n",
    "    {\n",
    "        \"role\": \"user\",\n",
    "        \"content\": prompt\n",
    "    }\n",
    "]\n",
    "\n",
    "text = tokenizer.apply_chat_template(message, tokenize=False, add_generation_prompt=True)\n",
    "\n",
    "model_inputs = tokenizer(text, return_tensors=\"pt\").to(model.device)\n",
    "output = model.generate(model_inputs.input_ids, max_new_tokens=512)\n",
    "print(output)\n",
    "\n",
    "response = tokenizer.decode(output[0], skip_special_tokens=True)\n",
    "print(response)"
   ],
   "id": "11566f5145981587"
  }
 ],
 "metadata": {
  "kernelspec": {
   "display_name": "Python 3",
   "language": "python",
   "name": "python3"
  },
  "language_info": {
   "codemirror_mode": {
    "name": "ipython",
    "version": 2
   },
   "file_extension": ".py",
   "mimetype": "text/x-python",
   "name": "python",
   "nbconvert_exporter": "python",
   "pygments_lexer": "ipython2",
   "version": "2.7.6"
  }
 },
 "nbformat": 4,
 "nbformat_minor": 5
}
